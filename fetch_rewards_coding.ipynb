{
 "cells": [
  {
   "cell_type": "code",
   "execution_count": null,
   "metadata": {},
   "outputs": [],
   "source": [
    "\"\"\"\n",
    "AUTHOR : VIRAJ\n",
    "\n",
    "DATE CREATED : (Saturday) 2nd October 2021\n",
    "\n",
    "DESC: \n",
    "\n",
    "\"\"\""
   ]
  },
  {
   "cell_type": "code",
   "execution_count": 253,
   "metadata": {},
   "outputs": [],
   "source": [
    "import pandas as pd\n",
    "from datetime import datetime"
   ]
  },
  {
   "cell_type": "code",
   "execution_count": 270,
   "metadata": {},
   "outputs": [
    {
     "name": "stdout",
     "output_type": "stream",
     "text": [
      "<class 'pandas.core.frame.DataFrame'>\n",
      "RangeIndex: 1119 entries, 0 to 1118\n",
      "Data columns (total 15 columns):\n",
      "_id                        1119 non-null object\n",
      "bonusPointsEarned          544 non-null float64\n",
      "bonusPointsEarnedReason    544 non-null object\n",
      "createDate                 1119 non-null object\n",
      "dateScanned                1119 non-null object\n",
      "finishedDate               568 non-null object\n",
      "modifyDate                 1119 non-null object\n",
      "pointsAwardedDate          537 non-null object\n",
      "pointsEarned               609 non-null float64\n",
      "purchaseDate               671 non-null object\n",
      "purchasedItemCount         635 non-null float64\n",
      "rewardsReceiptItemList     679 non-null object\n",
      "rewardsReceiptStatus       1119 non-null object\n",
      "totalSpent                 684 non-null float64\n",
      "userId                     1119 non-null object\n",
      "dtypes: float64(4), object(11)\n",
      "memory usage: 131.2+ KB\n"
     ]
    }
   ],
   "source": [
    "receipts = pd.read_json('receipts.json',lines=True)\n",
    "receipts.info()\n",
    "#receipts.head()"
   ]
  },
  {
   "cell_type": "code",
   "execution_count": 362,
   "metadata": {},
   "outputs": [],
   "source": [
    "def date_converter(x):\n",
    "    '''\n",
    "    Date provided is in UTC Format and we use this function to convert it to understandable format\n",
    "    \n",
    "    INPUTS\n",
    "        x : Date string in UTC Format\n",
    "    \n",
    "    OUTPUTS\n",
    "        y : Return Date in datetime format\n",
    "    \n",
    "    '''\n",
    "    \n",
    "    try:\n",
    "        return(datetime.utcfromtimestamp(int(x['$date'])/1000).strftime('%Y-%m-%d %H:%M:%S'))\n",
    "    except TypeError:\n",
    "        return(None)"
   ]
  },
  {
   "cell_type": "code",
   "execution_count": 272,
   "metadata": {},
   "outputs": [],
   "source": [
    "# set().union(*(d.keys() for d in receipts['_id']))\n",
    "# set().union(*(d.keys() for d in receipts['createDate']))\n",
    "# set().union(*(d.keys() for d in receipts['dateScanned']))\n",
    "# set().union(*(d.keys() for d in receipts.dropna(subset=['finishedDate'])['finishedDate']))\n",
    "# set().union(*(d.keys() for d in receipts.dropna(subset=['modifyDate'])['modifyDate']))\n",
    "# set().union(*(d.keys() for d in receipts.dropna(subset=['pointsAwardedDate'])['pointsAwardedDate']))\n",
    "# set().union(*(d.keys() for d in receipts.dropna(subset=['purchaseDate'])['purchaseDate']))\n"
   ]
  },
  {
   "cell_type": "code",
   "execution_count": 273,
   "metadata": {},
   "outputs": [],
   "source": [
    "receipts['_id'] = receipts['_id'].apply(lambda x: x['$oid'])\n",
    "receipts['createDate'] = receipts['createDate'].apply(lambda x: date_converter(x))\n",
    "receipts['dateScanned'] = receipts['dateScanned'].apply(lambda x: date_converter(x))\n",
    "receipts['finishedDate'] = receipts['finishedDate'].apply(lambda x: date_converter(x))\n",
    "receipts['modifyDate'] = receipts['modifyDate'].apply(lambda x: date_converter(x))\n",
    "receipts['pointsAwardedDate'] = receipts['pointsAwardedDate'].apply(lambda x: date_converter(x))\n",
    "receipts['purchaseDate'] = receipts['purchaseDate'].apply(lambda x: date_converter(x))"
   ]
  },
  {
   "cell_type": "code",
   "execution_count": 363,
   "metadata": {},
   "outputs": [
    {
     "data": {
      "text/html": [
       "<div>\n",
       "<style scoped>\n",
       "    .dataframe tbody tr th:only-of-type {\n",
       "        vertical-align: middle;\n",
       "    }\n",
       "\n",
       "    .dataframe tbody tr th {\n",
       "        vertical-align: top;\n",
       "    }\n",
       "\n",
       "    .dataframe thead th {\n",
       "        text-align: right;\n",
       "    }\n",
       "</style>\n",
       "<table border=\"1\" class=\"dataframe\">\n",
       "  <thead>\n",
       "    <tr style=\"text-align: right;\">\n",
       "      <th></th>\n",
       "      <th>_id</th>\n",
       "      <th>bonusPointsEarned</th>\n",
       "      <th>bonusPointsEarnedReason</th>\n",
       "      <th>createDate</th>\n",
       "      <th>dateScanned</th>\n",
       "      <th>finishedDate</th>\n",
       "      <th>modifyDate</th>\n",
       "      <th>pointsAwardedDate</th>\n",
       "      <th>pointsEarned</th>\n",
       "      <th>purchaseDate</th>\n",
       "      <th>purchasedItemCount</th>\n",
       "      <th>rewardsReceiptStatus</th>\n",
       "      <th>totalSpent</th>\n",
       "      <th>userId</th>\n",
       "    </tr>\n",
       "  </thead>\n",
       "  <tbody>\n",
       "    <tr>\n",
       "      <th>0</th>\n",
       "      <td>5ff1e1eb0a720f0523000575</td>\n",
       "      <td>500.0</td>\n",
       "      <td>Receipt number 2 completed, bonus point schedule DEFAULT (5cefdcacf3693e0b50e83a36)</td>\n",
       "      <td>2021-01-03 15:25:31</td>\n",
       "      <td>2021-01-03 15:25:31</td>\n",
       "      <td>2021-01-03 15:25:31</td>\n",
       "      <td>2021-01-03 15:25:36</td>\n",
       "      <td>2021-01-03 15:25:31</td>\n",
       "      <td>500.0</td>\n",
       "      <td>2021-01-03 00:00:00</td>\n",
       "      <td>5.0</td>\n",
       "      <td>FINISHED</td>\n",
       "      <td>26.0</td>\n",
       "      <td>5ff1e1eacfcf6c399c274ae6</td>\n",
       "    </tr>\n",
       "    <tr>\n",
       "      <th>1</th>\n",
       "      <td>5ff1e1bb0a720f052300056b</td>\n",
       "      <td>150.0</td>\n",
       "      <td>Receipt number 5 completed, bonus point schedule DEFAULT (5cefdcacf3693e0b50e83a36)</td>\n",
       "      <td>2021-01-03 15:24:43</td>\n",
       "      <td>2021-01-03 15:24:43</td>\n",
       "      <td>2021-01-03 15:24:43</td>\n",
       "      <td>2021-01-03 15:24:48</td>\n",
       "      <td>2021-01-03 15:24:43</td>\n",
       "      <td>150.0</td>\n",
       "      <td>2021-01-02 15:24:43</td>\n",
       "      <td>2.0</td>\n",
       "      <td>FINISHED</td>\n",
       "      <td>11.0</td>\n",
       "      <td>5ff1e194b6a9d73a3a9f1052</td>\n",
       "    </tr>\n",
       "  </tbody>\n",
       "</table>\n",
       "</div>"
      ],
      "text/plain": [
       "                        _id  bonusPointsEarned  \\\n",
       "0  5ff1e1eb0a720f0523000575  500.0               \n",
       "1  5ff1e1bb0a720f052300056b  150.0               \n",
       "\n",
       "                                                               bonusPointsEarnedReason  \\\n",
       "0  Receipt number 2 completed, bonus point schedule DEFAULT (5cefdcacf3693e0b50e83a36)   \n",
       "1  Receipt number 5 completed, bonus point schedule DEFAULT (5cefdcacf3693e0b50e83a36)   \n",
       "\n",
       "            createDate          dateScanned         finishedDate  \\\n",
       "0  2021-01-03 15:25:31  2021-01-03 15:25:31  2021-01-03 15:25:31   \n",
       "1  2021-01-03 15:24:43  2021-01-03 15:24:43  2021-01-03 15:24:43   \n",
       "\n",
       "            modifyDate    pointsAwardedDate  pointsEarned  \\\n",
       "0  2021-01-03 15:25:36  2021-01-03 15:25:31  500.0          \n",
       "1  2021-01-03 15:24:48  2021-01-03 15:24:43  150.0          \n",
       "\n",
       "          purchaseDate  purchasedItemCount rewardsReceiptStatus  totalSpent  \\\n",
       "0  2021-01-03 00:00:00  5.0                 FINISHED             26.0         \n",
       "1  2021-01-02 15:24:43  2.0                 FINISHED             11.0         \n",
       "\n",
       "                     userId  \n",
       "0  5ff1e1eacfcf6c399c274ae6  \n",
       "1  5ff1e194b6a9d73a3a9f1052  "
      ]
     },
     "execution_count": 363,
     "metadata": {},
     "output_type": "execute_result"
    }
   ],
   "source": [
    "receipts.head(2)"
   ]
  },
  {
   "cell_type": "code",
   "execution_count": 275,
   "metadata": {},
   "outputs": [],
   "source": [
    "\n",
    "l = []\n",
    "for i in range(len(receipts)):\n",
    "    try:\n",
    "        l.append(receipts['rewardsReceiptItemList'].iloc[i][0])\n",
    "    except:\n",
    "        #print(receipts['rewardsReceiptItemList'].iloc[i])\n",
    "        pass\n"
   ]
  },
  {
   "cell_type": "code",
   "execution_count": 276,
   "metadata": {},
   "outputs": [
    {
     "data": {
      "text/html": [
       "<div>\n",
       "<style scoped>\n",
       "    .dataframe tbody tr th:only-of-type {\n",
       "        vertical-align: middle;\n",
       "    }\n",
       "\n",
       "    .dataframe tbody tr th {\n",
       "        vertical-align: top;\n",
       "    }\n",
       "\n",
       "    .dataframe thead th {\n",
       "        text-align: right;\n",
       "    }\n",
       "</style>\n",
       "<table border=\"1\" class=\"dataframe\">\n",
       "  <thead>\n",
       "    <tr style=\"text-align: right;\">\n",
       "      <th></th>\n",
       "      <th>barcode</th>\n",
       "      <th>brandCode</th>\n",
       "      <th>competitiveProduct</th>\n",
       "      <th>competitorRewardsGroup</th>\n",
       "      <th>deleted</th>\n",
       "      <th>description</th>\n",
       "      <th>discountedItemPrice</th>\n",
       "      <th>finalPrice</th>\n",
       "      <th>itemNumber</th>\n",
       "      <th>itemPrice</th>\n",
       "      <th>...</th>\n",
       "      <th>rewardsGroup</th>\n",
       "      <th>rewardsProductPartnerId</th>\n",
       "      <th>targetPrice</th>\n",
       "      <th>userFlaggedBarcode</th>\n",
       "      <th>userFlaggedDescription</th>\n",
       "      <th>userFlaggedNewItem</th>\n",
       "      <th>userFlaggedPrice</th>\n",
       "      <th>userFlaggedQuantity</th>\n",
       "      <th>rewardsReceiptStatus</th>\n",
       "      <th>receipts_id</th>\n",
       "    </tr>\n",
       "  </thead>\n",
       "  <tbody>\n",
       "    <tr>\n",
       "      <th>409</th>\n",
       "      <td>043000000342</td>\n",
       "      <td>NaN</td>\n",
       "      <td>NaN</td>\n",
       "      <td>NaN</td>\n",
       "      <td>NaN</td>\n",
       "      <td>GENERAL FOODS INTERNATIONAL Vanilla Creme, No Caffeine, 9-Ounce Units (Pack of 6)</td>\n",
       "      <td>NaN</td>\n",
       "      <td>1</td>\n",
       "      <td>NaN</td>\n",
       "      <td>1</td>\n",
       "      <td>...</td>\n",
       "      <td>MAXWELL HOUSE INTERNATIONAL INSTANT COFFEE</td>\n",
       "      <td>559c2234e4b06aca36af13c6</td>\n",
       "      <td>800</td>\n",
       "      <td>NaN</td>\n",
       "      <td>NaN</td>\n",
       "      <td>NaN</td>\n",
       "      <td>NaN</td>\n",
       "      <td>NaN</td>\n",
       "      <td>FINISHED</td>\n",
       "      <td>6009e72c0a720f0535000003</td>\n",
       "    </tr>\n",
       "  </tbody>\n",
       "</table>\n",
       "<p>1 rows × 34 columns</p>\n",
       "</div>"
      ],
      "text/plain": [
       "          barcode brandCode competitiveProduct competitorRewardsGroup deleted  \\\n",
       "409  043000000342  NaN       NaN                NaN                    NaN      \n",
       "\n",
       "                                                                           description  \\\n",
       "409  GENERAL FOODS INTERNATIONAL Vanilla Creme, No Caffeine, 9-Ounce Units (Pack of 6)   \n",
       "\n",
       "    discountedItemPrice finalPrice itemNumber itemPrice  ...  \\\n",
       "409  NaN                 1          NaN        1         ...   \n",
       "\n",
       "                                   rewardsGroup   rewardsProductPartnerId  \\\n",
       "409  MAXWELL HOUSE INTERNATIONAL INSTANT COFFEE  559c2234e4b06aca36af13c6   \n",
       "\n",
       "    targetPrice userFlaggedBarcode userFlaggedDescription  userFlaggedNewItem  \\\n",
       "409  800         NaN                NaN                    NaN                  \n",
       "\n",
       "    userFlaggedPrice userFlaggedQuantity rewardsReceiptStatus  \\\n",
       "409  NaN             NaN                  FINISHED              \n",
       "\n",
       "                  receipts_id  \n",
       "409  6009e72c0a720f0535000003  \n",
       "\n",
       "[1 rows x 34 columns]"
      ]
     },
     "execution_count": 276,
     "metadata": {},
     "output_type": "execute_result"
    }
   ],
   "source": [
    "rewards_receipts_item = pd.DataFrame(l)\n",
    "rewards_receipts_item[\"rewardsReceiptStatus\"] = receipts[\"rewardsReceiptStatus\"]\n",
    "rewards_receipts_item['receipts_id']= receipts[\"_id\"]\n",
    "rewards_receipts_item.sample()"
   ]
  },
  {
   "cell_type": "code",
   "execution_count": 277,
   "metadata": {},
   "outputs": [
    {
     "name": "stderr",
     "output_type": "stream",
     "text": [
      "C:\\Users\\viraj\\Anaconda3\\lib\\site-packages\\pandas\\core\\indexing.py:190: SettingWithCopyWarning: \n",
      "A value is trying to be set on a copy of a slice from a DataFrame\n",
      "\n",
      "See the caveats in the documentation: http://pandas.pydata.org/pandas-docs/stable/indexing.html#indexing-view-versus-copy\n",
      "  self._setitem_with_indexer(indexer, value)\n"
     ]
    }
   ],
   "source": [
    "import numpy as np\n",
    "rewards_receipts_item['rewards_id'] = np.zeros((len(rewards_receipts_item),1))\n",
    "for i in range(len(rewards_receipts_item)):\n",
    "    rewards_receipts_item['rewards_id'].iloc[i]= i+1"
   ]
  },
  {
   "cell_type": "code",
   "execution_count": 278,
   "metadata": {
    "scrolled": true
   },
   "outputs": [
    {
     "data": {
      "text/html": [
       "<div>\n",
       "<style scoped>\n",
       "    .dataframe tbody tr th:only-of-type {\n",
       "        vertical-align: middle;\n",
       "    }\n",
       "\n",
       "    .dataframe tbody tr th {\n",
       "        vertical-align: top;\n",
       "    }\n",
       "\n",
       "    .dataframe thead th {\n",
       "        text-align: right;\n",
       "    }\n",
       "</style>\n",
       "<table border=\"1\" class=\"dataframe\">\n",
       "  <thead>\n",
       "    <tr style=\"text-align: right;\">\n",
       "      <th></th>\n",
       "      <th>rewards_id</th>\n",
       "      <th>receipts_id</th>\n",
       "      <th>rewardsReceiptStatus</th>\n",
       "      <th>barcode</th>\n",
       "      <th>brandCode</th>\n",
       "      <th>competitiveProduct</th>\n",
       "      <th>competitorRewardsGroup</th>\n",
       "      <th>deleted</th>\n",
       "      <th>description</th>\n",
       "      <th>discountedItemPrice</th>\n",
       "      <th>...</th>\n",
       "      <th>priceAfterCoupon</th>\n",
       "      <th>quantityPurchased</th>\n",
       "      <th>rewardsGroup</th>\n",
       "      <th>rewardsProductPartnerId</th>\n",
       "      <th>targetPrice</th>\n",
       "      <th>userFlaggedBarcode</th>\n",
       "      <th>userFlaggedDescription</th>\n",
       "      <th>userFlaggedNewItem</th>\n",
       "      <th>userFlaggedPrice</th>\n",
       "      <th>userFlaggedQuantity</th>\n",
       "    </tr>\n",
       "  </thead>\n",
       "  <tbody>\n",
       "    <tr>\n",
       "      <th>0</th>\n",
       "      <td>1.0</td>\n",
       "      <td>5ff1e1eb0a720f0523000575</td>\n",
       "      <td>FINISHED</td>\n",
       "      <td>4011</td>\n",
       "      <td>NaN</td>\n",
       "      <td>NaN</td>\n",
       "      <td>NaN</td>\n",
       "      <td>NaN</td>\n",
       "      <td>ITEM NOT FOUND</td>\n",
       "      <td>NaN</td>\n",
       "      <td>...</td>\n",
       "      <td>NaN</td>\n",
       "      <td>5.0</td>\n",
       "      <td>NaN</td>\n",
       "      <td>NaN</td>\n",
       "      <td>NaN</td>\n",
       "      <td>4011</td>\n",
       "      <td>NaN</td>\n",
       "      <td>True</td>\n",
       "      <td>26.00</td>\n",
       "      <td>5.0</td>\n",
       "    </tr>\n",
       "    <tr>\n",
       "      <th>1</th>\n",
       "      <td>2.0</td>\n",
       "      <td>5ff1e1bb0a720f052300056b</td>\n",
       "      <td>FINISHED</td>\n",
       "      <td>4011</td>\n",
       "      <td>NaN</td>\n",
       "      <td>NaN</td>\n",
       "      <td>NaN</td>\n",
       "      <td>NaN</td>\n",
       "      <td>ITEM NOT FOUND</td>\n",
       "      <td>NaN</td>\n",
       "      <td>...</td>\n",
       "      <td>NaN</td>\n",
       "      <td>1.0</td>\n",
       "      <td>NaN</td>\n",
       "      <td>NaN</td>\n",
       "      <td>NaN</td>\n",
       "      <td>NaN</td>\n",
       "      <td>NaN</td>\n",
       "      <td>NaN</td>\n",
       "      <td>NaN</td>\n",
       "      <td>NaN</td>\n",
       "    </tr>\n",
       "    <tr>\n",
       "      <th>2</th>\n",
       "      <td>3.0</td>\n",
       "      <td>5ff1e1f10a720f052300057a</td>\n",
       "      <td>REJECTED</td>\n",
       "      <td>NaN</td>\n",
       "      <td>NaN</td>\n",
       "      <td>NaN</td>\n",
       "      <td>NaN</td>\n",
       "      <td>NaN</td>\n",
       "      <td>NaN</td>\n",
       "      <td>NaN</td>\n",
       "      <td>...</td>\n",
       "      <td>NaN</td>\n",
       "      <td>NaN</td>\n",
       "      <td>NaN</td>\n",
       "      <td>NaN</td>\n",
       "      <td>NaN</td>\n",
       "      <td>4011</td>\n",
       "      <td>NaN</td>\n",
       "      <td>True</td>\n",
       "      <td>26.00</td>\n",
       "      <td>3.0</td>\n",
       "    </tr>\n",
       "    <tr>\n",
       "      <th>3</th>\n",
       "      <td>4.0</td>\n",
       "      <td>5ff1e1ee0a7214ada100056f</td>\n",
       "      <td>FINISHED</td>\n",
       "      <td>4011</td>\n",
       "      <td>NaN</td>\n",
       "      <td>NaN</td>\n",
       "      <td>NaN</td>\n",
       "      <td>NaN</td>\n",
       "      <td>ITEM NOT FOUND</td>\n",
       "      <td>NaN</td>\n",
       "      <td>...</td>\n",
       "      <td>NaN</td>\n",
       "      <td>4.0</td>\n",
       "      <td>NaN</td>\n",
       "      <td>NaN</td>\n",
       "      <td>NaN</td>\n",
       "      <td>4011</td>\n",
       "      <td>NaN</td>\n",
       "      <td>True</td>\n",
       "      <td>28.00</td>\n",
       "      <td>4.0</td>\n",
       "    </tr>\n",
       "    <tr>\n",
       "      <th>4</th>\n",
       "      <td>5.0</td>\n",
       "      <td>5ff1e1d20a7214ada1000561</td>\n",
       "      <td>FINISHED</td>\n",
       "      <td>4011</td>\n",
       "      <td>NaN</td>\n",
       "      <td>NaN</td>\n",
       "      <td>NaN</td>\n",
       "      <td>NaN</td>\n",
       "      <td>ITEM NOT FOUND</td>\n",
       "      <td>NaN</td>\n",
       "      <td>...</td>\n",
       "      <td>NaN</td>\n",
       "      <td>1.0</td>\n",
       "      <td>NaN</td>\n",
       "      <td>NaN</td>\n",
       "      <td>NaN</td>\n",
       "      <td>NaN</td>\n",
       "      <td>NaN</td>\n",
       "      <td>NaN</td>\n",
       "      <td>NaN</td>\n",
       "      <td>NaN</td>\n",
       "    </tr>\n",
       "  </tbody>\n",
       "</table>\n",
       "<p>5 rows × 35 columns</p>\n",
       "</div>"
      ],
      "text/plain": [
       "   rewards_id               receipts_id rewardsReceiptStatus barcode  \\\n",
       "0  1.0         5ff1e1eb0a720f0523000575  FINISHED             4011     \n",
       "1  2.0         5ff1e1bb0a720f052300056b  FINISHED             4011     \n",
       "2  3.0         5ff1e1f10a720f052300057a  REJECTED             NaN      \n",
       "3  4.0         5ff1e1ee0a7214ada100056f  FINISHED             4011     \n",
       "4  5.0         5ff1e1d20a7214ada1000561  FINISHED             4011     \n",
       "\n",
       "  brandCode competitiveProduct competitorRewardsGroup deleted     description  \\\n",
       "0  NaN       NaN                NaN                    NaN     ITEM NOT FOUND   \n",
       "1  NaN       NaN                NaN                    NaN     ITEM NOT FOUND   \n",
       "2  NaN       NaN                NaN                    NaN     NaN              \n",
       "3  NaN       NaN                NaN                    NaN     ITEM NOT FOUND   \n",
       "4  NaN       NaN                NaN                    NaN     ITEM NOT FOUND   \n",
       "\n",
       "  discountedItemPrice  ... priceAfterCoupon quantityPurchased rewardsGroup  \\\n",
       "0  NaN                 ...  NaN              5.0               NaN           \n",
       "1  NaN                 ...  NaN              1.0               NaN           \n",
       "2  NaN                 ...  NaN             NaN                NaN           \n",
       "3  NaN                 ...  NaN              4.0               NaN           \n",
       "4  NaN                 ...  NaN              1.0               NaN           \n",
       "\n",
       "  rewardsProductPartnerId targetPrice userFlaggedBarcode  \\\n",
       "0  NaN                     NaN         4011                \n",
       "1  NaN                     NaN         NaN                 \n",
       "2  NaN                     NaN         4011                \n",
       "3  NaN                     NaN         4011                \n",
       "4  NaN                     NaN         NaN                 \n",
       "\n",
       "  userFlaggedDescription userFlaggedNewItem  userFlaggedPrice  \\\n",
       "0  NaN                    True               26.00              \n",
       "1  NaN                    NaN                NaN                \n",
       "2  NaN                    True               26.00              \n",
       "3  NaN                    True               28.00              \n",
       "4  NaN                    NaN                NaN                \n",
       "\n",
       "  userFlaggedQuantity  \n",
       "0  5.0                 \n",
       "1 NaN                  \n",
       "2  3.0                 \n",
       "3  4.0                 \n",
       "4 NaN                  \n",
       "\n",
       "[5 rows x 35 columns]"
      ]
     },
     "execution_count": 278,
     "metadata": {},
     "output_type": "execute_result"
    }
   ],
   "source": [
    "col_val = ['rewards_id','receipts_id','rewardsReceiptStatus',\n",
    "           'barcode', 'brandCode', 'competitiveProduct', 'competitorRewardsGroup',\n",
    "       'deleted', 'description', 'discountedItemPrice', 'finalPrice',\n",
    "       'itemNumber', 'itemPrice', 'metabriteCampaignId', 'needsFetchReview',\n",
    "       'needsFetchReviewReason', 'originalMetaBriteBarcode',\n",
    "       'originalMetaBriteDescription', 'originalMetaBriteQuantityPurchased',\n",
    "       'originalReceiptItemText', 'partnerItemId', 'pointsEarned',\n",
    "       'pointsNotAwardedReason', 'pointsPayerId', 'preventTargetGapPoints',\n",
    "       'priceAfterCoupon', 'quantityPurchased', 'rewardsGroup',\n",
    "       'rewardsProductPartnerId', 'targetPrice', 'userFlaggedBarcode',\n",
    "       'userFlaggedDescription', 'userFlaggedNewItem', 'userFlaggedPrice',\n",
    "       'userFlaggedQuantity']\n",
    "rewards_receipts = rewards_receipts[col_val]\n",
    "rewards_receipts.head()"
   ]
  },
  {
   "cell_type": "code",
   "execution_count": 279,
   "metadata": {},
   "outputs": [],
   "source": [
    "receipts=receipts.drop(['rewardsReceiptItemList'], axis=1)"
   ]
  },
  {
   "cell_type": "code",
   "execution_count": 280,
   "metadata": {},
   "outputs": [
    {
     "name": "stdout",
     "output_type": "stream",
     "text": [
      "<class 'pandas.core.frame.DataFrame'>\n",
      "RangeIndex: 1119 entries, 0 to 1118\n",
      "Data columns (total 14 columns):\n",
      "_id                        1119 non-null object\n",
      "bonusPointsEarned          544 non-null float64\n",
      "bonusPointsEarnedReason    544 non-null object\n",
      "createDate                 1119 non-null object\n",
      "dateScanned                1119 non-null object\n",
      "finishedDate               568 non-null object\n",
      "modifyDate                 1119 non-null object\n",
      "pointsAwardedDate          537 non-null object\n",
      "pointsEarned               609 non-null float64\n",
      "purchaseDate               671 non-null object\n",
      "purchasedItemCount         635 non-null float64\n",
      "rewardsReceiptStatus       1119 non-null object\n",
      "totalSpent                 684 non-null float64\n",
      "userId                     1119 non-null object\n",
      "dtypes: float64(4), object(10)\n",
      "memory usage: 122.5+ KB\n"
     ]
    }
   ],
   "source": [
    "receipts.info()"
   ]
  },
  {
   "cell_type": "code",
   "execution_count": 281,
   "metadata": {},
   "outputs": [],
   "source": [
    "receipts.to_csv('receiptstosql.csv')"
   ]
  },
  {
   "cell_type": "code",
   "execution_count": 282,
   "metadata": {},
   "outputs": [],
   "source": [
    "rewards_receipts_item.to_csv('rewards_receiptstosql.csv')"
   ]
  },
  {
   "cell_type": "markdown",
   "metadata": {},
   "source": [
    "## Users Table Processing"
   ]
  },
  {
   "cell_type": "code",
   "execution_count": 283,
   "metadata": {},
   "outputs": [
    {
     "name": "stdout",
     "output_type": "stream",
     "text": [
      "<class 'pandas.core.frame.DataFrame'>\n",
      "RangeIndex: 495 entries, 0 to 494\n",
      "Data columns (total 7 columns):\n",
      "_id             495 non-null object\n",
      "active          495 non-null bool\n",
      "createdDate     495 non-null object\n",
      "lastLogin       433 non-null object\n",
      "role            495 non-null object\n",
      "signUpSource    447 non-null object\n",
      "state           439 non-null object\n",
      "dtypes: bool(1), object(6)\n",
      "memory usage: 23.8+ KB\n"
     ]
    },
    {
     "data": {
      "text/html": [
       "<div>\n",
       "<style scoped>\n",
       "    .dataframe tbody tr th:only-of-type {\n",
       "        vertical-align: middle;\n",
       "    }\n",
       "\n",
       "    .dataframe tbody tr th {\n",
       "        vertical-align: top;\n",
       "    }\n",
       "\n",
       "    .dataframe thead th {\n",
       "        text-align: right;\n",
       "    }\n",
       "</style>\n",
       "<table border=\"1\" class=\"dataframe\">\n",
       "  <thead>\n",
       "    <tr style=\"text-align: right;\">\n",
       "      <th></th>\n",
       "      <th>_id</th>\n",
       "      <th>active</th>\n",
       "      <th>createdDate</th>\n",
       "      <th>lastLogin</th>\n",
       "      <th>role</th>\n",
       "      <th>signUpSource</th>\n",
       "      <th>state</th>\n",
       "    </tr>\n",
       "  </thead>\n",
       "  <tbody>\n",
       "    <tr>\n",
       "      <th>0</th>\n",
       "      <td>{'$oid': '5ff1e194b6a9d73a3a9f1052'}</td>\n",
       "      <td>True</td>\n",
       "      <td>{'$date': 1609687444800}</td>\n",
       "      <td>{'$date': 1609687537858}</td>\n",
       "      <td>consumer</td>\n",
       "      <td>Email</td>\n",
       "      <td>WI</td>\n",
       "    </tr>\n",
       "    <tr>\n",
       "      <th>1</th>\n",
       "      <td>{'$oid': '5ff1e194b6a9d73a3a9f1052'}</td>\n",
       "      <td>True</td>\n",
       "      <td>{'$date': 1609687444800}</td>\n",
       "      <td>{'$date': 1609687537858}</td>\n",
       "      <td>consumer</td>\n",
       "      <td>Email</td>\n",
       "      <td>WI</td>\n",
       "    </tr>\n",
       "    <tr>\n",
       "      <th>2</th>\n",
       "      <td>{'$oid': '5ff1e194b6a9d73a3a9f1052'}</td>\n",
       "      <td>True</td>\n",
       "      <td>{'$date': 1609687444800}</td>\n",
       "      <td>{'$date': 1609687537858}</td>\n",
       "      <td>consumer</td>\n",
       "      <td>Email</td>\n",
       "      <td>WI</td>\n",
       "    </tr>\n",
       "    <tr>\n",
       "      <th>3</th>\n",
       "      <td>{'$oid': '5ff1e1eacfcf6c399c274ae6'}</td>\n",
       "      <td>True</td>\n",
       "      <td>{'$date': 1609687530554}</td>\n",
       "      <td>{'$date': 1609687530597}</td>\n",
       "      <td>consumer</td>\n",
       "      <td>Email</td>\n",
       "      <td>WI</td>\n",
       "    </tr>\n",
       "    <tr>\n",
       "      <th>4</th>\n",
       "      <td>{'$oid': '5ff1e194b6a9d73a3a9f1052'}</td>\n",
       "      <td>True</td>\n",
       "      <td>{'$date': 1609687444800}</td>\n",
       "      <td>{'$date': 1609687537858}</td>\n",
       "      <td>consumer</td>\n",
       "      <td>Email</td>\n",
       "      <td>WI</td>\n",
       "    </tr>\n",
       "  </tbody>\n",
       "</table>\n",
       "</div>"
      ],
      "text/plain": [
       "                                    _id  active               createdDate  \\\n",
       "0  {'$oid': '5ff1e194b6a9d73a3a9f1052'}  True    {'$date': 1609687444800}   \n",
       "1  {'$oid': '5ff1e194b6a9d73a3a9f1052'}  True    {'$date': 1609687444800}   \n",
       "2  {'$oid': '5ff1e194b6a9d73a3a9f1052'}  True    {'$date': 1609687444800}   \n",
       "3  {'$oid': '5ff1e1eacfcf6c399c274ae6'}  True    {'$date': 1609687530554}   \n",
       "4  {'$oid': '5ff1e194b6a9d73a3a9f1052'}  True    {'$date': 1609687444800}   \n",
       "\n",
       "                  lastLogin      role signUpSource state  \n",
       "0  {'$date': 1609687537858}  consumer  Email        WI    \n",
       "1  {'$date': 1609687537858}  consumer  Email        WI    \n",
       "2  {'$date': 1609687537858}  consumer  Email        WI    \n",
       "3  {'$date': 1609687530597}  consumer  Email        WI    \n",
       "4  {'$date': 1609687537858}  consumer  Email        WI    "
      ]
     },
     "execution_count": 283,
     "metadata": {},
     "output_type": "execute_result"
    }
   ],
   "source": [
    "#users processing\n",
    "users = pd.read_json('users.json',lines=True)\n",
    "users.info()\n",
    "users.head()"
   ]
  },
  {
   "cell_type": "code",
   "execution_count": 284,
   "metadata": {},
   "outputs": [
    {
     "data": {
      "text/plain": [
       "{'$date'}"
      ]
     },
     "execution_count": 284,
     "metadata": {},
     "output_type": "execute_result"
    }
   ],
   "source": [
    "set().union(*(d.keys() for d in users['_id']))\n",
    "set().union(*(d.keys() for d in users['createdDate']))\n",
    "set().union(*(d.keys() for d in users.dropna(subset=['lastLogin'])['lastLogin']))#not all lastlogin have date"
   ]
  },
  {
   "cell_type": "code",
   "execution_count": 285,
   "metadata": {},
   "outputs": [],
   "source": [
    "users['_id'] = users['_id'].apply(lambda x: x['$oid'])"
   ]
  },
  {
   "cell_type": "code",
   "execution_count": 286,
   "metadata": {},
   "outputs": [],
   "source": [
    "users['createdDate'] = users['createdDate'].apply(lambda x: date_converter(x))\n",
    "users['lastLogin'] = users['lastLogin'].apply(lambda x: date_converter(x))"
   ]
  },
  {
   "cell_type": "code",
   "execution_count": 287,
   "metadata": {},
   "outputs": [
    {
     "data": {
      "text/html": [
       "<div>\n",
       "<style scoped>\n",
       "    .dataframe tbody tr th:only-of-type {\n",
       "        vertical-align: middle;\n",
       "    }\n",
       "\n",
       "    .dataframe tbody tr th {\n",
       "        vertical-align: top;\n",
       "    }\n",
       "\n",
       "    .dataframe thead th {\n",
       "        text-align: right;\n",
       "    }\n",
       "</style>\n",
       "<table border=\"1\" class=\"dataframe\">\n",
       "  <thead>\n",
       "    <tr style=\"text-align: right;\">\n",
       "      <th></th>\n",
       "      <th>_id</th>\n",
       "      <th>active</th>\n",
       "      <th>createdDate</th>\n",
       "      <th>lastLogin</th>\n",
       "      <th>role</th>\n",
       "      <th>signUpSource</th>\n",
       "      <th>state</th>\n",
       "    </tr>\n",
       "  </thead>\n",
       "  <tbody>\n",
       "    <tr>\n",
       "      <th>0</th>\n",
       "      <td>5ff1e194b6a9d73a3a9f1052</td>\n",
       "      <td>True</td>\n",
       "      <td>2021-01-03 15:24:04</td>\n",
       "      <td>2021-01-03 15:25:37</td>\n",
       "      <td>consumer</td>\n",
       "      <td>Email</td>\n",
       "      <td>WI</td>\n",
       "    </tr>\n",
       "    <tr>\n",
       "      <th>1</th>\n",
       "      <td>5ff1e194b6a9d73a3a9f1052</td>\n",
       "      <td>True</td>\n",
       "      <td>2021-01-03 15:24:04</td>\n",
       "      <td>2021-01-03 15:25:37</td>\n",
       "      <td>consumer</td>\n",
       "      <td>Email</td>\n",
       "      <td>WI</td>\n",
       "    </tr>\n",
       "    <tr>\n",
       "      <th>2</th>\n",
       "      <td>5ff1e194b6a9d73a3a9f1052</td>\n",
       "      <td>True</td>\n",
       "      <td>2021-01-03 15:24:04</td>\n",
       "      <td>2021-01-03 15:25:37</td>\n",
       "      <td>consumer</td>\n",
       "      <td>Email</td>\n",
       "      <td>WI</td>\n",
       "    </tr>\n",
       "    <tr>\n",
       "      <th>3</th>\n",
       "      <td>5ff1e1eacfcf6c399c274ae6</td>\n",
       "      <td>True</td>\n",
       "      <td>2021-01-03 15:25:30</td>\n",
       "      <td>2021-01-03 15:25:30</td>\n",
       "      <td>consumer</td>\n",
       "      <td>Email</td>\n",
       "      <td>WI</td>\n",
       "    </tr>\n",
       "    <tr>\n",
       "      <th>4</th>\n",
       "      <td>5ff1e194b6a9d73a3a9f1052</td>\n",
       "      <td>True</td>\n",
       "      <td>2021-01-03 15:24:04</td>\n",
       "      <td>2021-01-03 15:25:37</td>\n",
       "      <td>consumer</td>\n",
       "      <td>Email</td>\n",
       "      <td>WI</td>\n",
       "    </tr>\n",
       "  </tbody>\n",
       "</table>\n",
       "</div>"
      ],
      "text/plain": [
       "                        _id  active          createdDate            lastLogin  \\\n",
       "0  5ff1e194b6a9d73a3a9f1052  True    2021-01-03 15:24:04  2021-01-03 15:25:37   \n",
       "1  5ff1e194b6a9d73a3a9f1052  True    2021-01-03 15:24:04  2021-01-03 15:25:37   \n",
       "2  5ff1e194b6a9d73a3a9f1052  True    2021-01-03 15:24:04  2021-01-03 15:25:37   \n",
       "3  5ff1e1eacfcf6c399c274ae6  True    2021-01-03 15:25:30  2021-01-03 15:25:30   \n",
       "4  5ff1e194b6a9d73a3a9f1052  True    2021-01-03 15:24:04  2021-01-03 15:25:37   \n",
       "\n",
       "       role signUpSource state  \n",
       "0  consumer  Email        WI    \n",
       "1  consumer  Email        WI    \n",
       "2  consumer  Email        WI    \n",
       "3  consumer  Email        WI    \n",
       "4  consumer  Email        WI    "
      ]
     },
     "execution_count": 287,
     "metadata": {},
     "output_type": "execute_result"
    }
   ],
   "source": [
    "users.head()"
   ]
  },
  {
   "cell_type": "code",
   "execution_count": 288,
   "metadata": {},
   "outputs": [],
   "source": [
    "users.to_csv('userstosql.csv')"
   ]
  },
  {
   "cell_type": "markdown",
   "metadata": {},
   "source": [
    "## Brands Table Processing"
   ]
  },
  {
   "cell_type": "code",
   "execution_count": 289,
   "metadata": {},
   "outputs": [
    {
     "data": {
      "text/html": [
       "<div>\n",
       "<style scoped>\n",
       "    .dataframe tbody tr th:only-of-type {\n",
       "        vertical-align: middle;\n",
       "    }\n",
       "\n",
       "    .dataframe tbody tr th {\n",
       "        vertical-align: top;\n",
       "    }\n",
       "\n",
       "    .dataframe thead th {\n",
       "        text-align: right;\n",
       "    }\n",
       "</style>\n",
       "<table border=\"1\" class=\"dataframe\">\n",
       "  <thead>\n",
       "    <tr style=\"text-align: right;\">\n",
       "      <th></th>\n",
       "    </tr>\n",
       "  </thead>\n",
       "  <tbody>\n",
       "  </tbody>\n",
       "</table>\n",
       "</div>"
      ],
      "text/plain": [
       "Empty DataFrame\n",
       "Columns: []\n",
       "Index: []"
      ]
     },
     "execution_count": 289,
     "metadata": {},
     "output_type": "execute_result"
    }
   ],
   "source": [
    "l1 = []\n",
    "for i in range(len(brands)):\n",
    "    try:\n",
    "        l1.append(brands['cpg'].iloc[i])\n",
    "    except:\n",
    "        #print(brands['cpg'].iloc[i])\n",
    "        pass\n",
    "df_cpg = pd.DataFrame(l1)\n",
    "df_cpg.head()"
   ]
  },
  {
   "cell_type": "code",
   "execution_count": 290,
   "metadata": {},
   "outputs": [
    {
     "name": "stdout",
     "output_type": "stream",
     "text": [
      "<class 'pandas.core.frame.DataFrame'>\n",
      "RangeIndex: 1167 entries, 0 to 1166\n",
      "Data columns (total 8 columns):\n",
      "_id             1167 non-null object\n",
      "barcode         1167 non-null int64\n",
      "brandCode       933 non-null object\n",
      "category        1012 non-null object\n",
      "categoryCode    517 non-null object\n",
      "cpg             1167 non-null object\n",
      "name            1167 non-null object\n",
      "topBrand        555 non-null float64\n",
      "dtypes: float64(1), int64(1), object(6)\n",
      "memory usage: 73.0+ KB\n"
     ]
    },
    {
     "data": {
      "text/html": [
       "<div>\n",
       "<style scoped>\n",
       "    .dataframe tbody tr th:only-of-type {\n",
       "        vertical-align: middle;\n",
       "    }\n",
       "\n",
       "    .dataframe tbody tr th {\n",
       "        vertical-align: top;\n",
       "    }\n",
       "\n",
       "    .dataframe thead th {\n",
       "        text-align: right;\n",
       "    }\n",
       "</style>\n",
       "<table border=\"1\" class=\"dataframe\">\n",
       "  <thead>\n",
       "    <tr style=\"text-align: right;\">\n",
       "      <th></th>\n",
       "      <th>_id</th>\n",
       "      <th>barcode</th>\n",
       "      <th>brandCode</th>\n",
       "      <th>category</th>\n",
       "      <th>categoryCode</th>\n",
       "      <th>cpg</th>\n",
       "      <th>name</th>\n",
       "      <th>topBrand</th>\n",
       "    </tr>\n",
       "  </thead>\n",
       "  <tbody>\n",
       "    <tr>\n",
       "      <th>0</th>\n",
       "      <td>{'$oid': '601ac115be37ce2ead437551'}</td>\n",
       "      <td>511111019862</td>\n",
       "      <td>NaN</td>\n",
       "      <td>Baking</td>\n",
       "      <td>BAKING</td>\n",
       "      <td>{'$id': {'$oid': '601ac114be37ce2ead437550'}, '$ref': 'Cogs'}</td>\n",
       "      <td>test brand @1612366101024</td>\n",
       "      <td>0.0</td>\n",
       "    </tr>\n",
       "    <tr>\n",
       "      <th>1</th>\n",
       "      <td>{'$oid': '601c5460be37ce2ead43755f'}</td>\n",
       "      <td>511111519928</td>\n",
       "      <td>STARBUCKS</td>\n",
       "      <td>Beverages</td>\n",
       "      <td>BEVERAGES</td>\n",
       "      <td>{'$id': {'$oid': '5332f5fbe4b03c9a25efd0ba'}, '$ref': 'Cogs'}</td>\n",
       "      <td>Starbucks</td>\n",
       "      <td>0.0</td>\n",
       "    </tr>\n",
       "    <tr>\n",
       "      <th>2</th>\n",
       "      <td>{'$oid': '601ac142be37ce2ead43755d'}</td>\n",
       "      <td>511111819905</td>\n",
       "      <td>TEST BRANDCODE @1612366146176</td>\n",
       "      <td>Baking</td>\n",
       "      <td>BAKING</td>\n",
       "      <td>{'$id': {'$oid': '601ac142be37ce2ead437559'}, '$ref': 'Cogs'}</td>\n",
       "      <td>test brand @1612366146176</td>\n",
       "      <td>0.0</td>\n",
       "    </tr>\n",
       "    <tr>\n",
       "      <th>3</th>\n",
       "      <td>{'$oid': '601ac142be37ce2ead43755a'}</td>\n",
       "      <td>511111519874</td>\n",
       "      <td>TEST BRANDCODE @1612366146051</td>\n",
       "      <td>Baking</td>\n",
       "      <td>BAKING</td>\n",
       "      <td>{'$id': {'$oid': '601ac142be37ce2ead437559'}, '$ref': 'Cogs'}</td>\n",
       "      <td>test brand @1612366146051</td>\n",
       "      <td>0.0</td>\n",
       "    </tr>\n",
       "    <tr>\n",
       "      <th>4</th>\n",
       "      <td>{'$oid': '601ac142be37ce2ead43755e'}</td>\n",
       "      <td>511111319917</td>\n",
       "      <td>TEST BRANDCODE @1612366146827</td>\n",
       "      <td>Candy &amp; Sweets</td>\n",
       "      <td>CANDY_AND_SWEETS</td>\n",
       "      <td>{'$id': {'$oid': '5332fa12e4b03c9a25efd1e7'}, '$ref': 'Cogs'}</td>\n",
       "      <td>test brand @1612366146827</td>\n",
       "      <td>0.0</td>\n",
       "    </tr>\n",
       "  </tbody>\n",
       "</table>\n",
       "</div>"
      ],
      "text/plain": [
       "                                    _id       barcode  \\\n",
       "0  {'$oid': '601ac115be37ce2ead437551'}  511111019862   \n",
       "1  {'$oid': '601c5460be37ce2ead43755f'}  511111519928   \n",
       "2  {'$oid': '601ac142be37ce2ead43755d'}  511111819905   \n",
       "3  {'$oid': '601ac142be37ce2ead43755a'}  511111519874   \n",
       "4  {'$oid': '601ac142be37ce2ead43755e'}  511111319917   \n",
       "\n",
       "                       brandCode        category      categoryCode  \\\n",
       "0  NaN                            Baking          BAKING             \n",
       "1  STARBUCKS                      Beverages       BEVERAGES          \n",
       "2  TEST BRANDCODE @1612366146176  Baking          BAKING             \n",
       "3  TEST BRANDCODE @1612366146051  Baking          BAKING             \n",
       "4  TEST BRANDCODE @1612366146827  Candy & Sweets  CANDY_AND_SWEETS   \n",
       "\n",
       "                                                             cpg  \\\n",
       "0  {'$id': {'$oid': '601ac114be37ce2ead437550'}, '$ref': 'Cogs'}   \n",
       "1  {'$id': {'$oid': '5332f5fbe4b03c9a25efd0ba'}, '$ref': 'Cogs'}   \n",
       "2  {'$id': {'$oid': '601ac142be37ce2ead437559'}, '$ref': 'Cogs'}   \n",
       "3  {'$id': {'$oid': '601ac142be37ce2ead437559'}, '$ref': 'Cogs'}   \n",
       "4  {'$id': {'$oid': '5332fa12e4b03c9a25efd1e7'}, '$ref': 'Cogs'}   \n",
       "\n",
       "                        name  topBrand  \n",
       "0  test brand @1612366101024  0.0       \n",
       "1  Starbucks                  0.0       \n",
       "2  test brand @1612366146176  0.0       \n",
       "3  test brand @1612366146051  0.0       \n",
       "4  test brand @1612366146827  0.0       "
      ]
     },
     "execution_count": 290,
     "metadata": {},
     "output_type": "execute_result"
    }
   ],
   "source": [
    "brands = pd.read_json('brands.json',lines=True)\n",
    "brands.info()\n",
    "brands.head()"
   ]
  },
  {
   "cell_type": "code",
   "execution_count": 291,
   "metadata": {},
   "outputs": [],
   "source": [
    "brands['_id'] = brands['_id'].apply(lambda x: x['$oid'])\n",
    "brands['cpg_id']=brands['cpg'].apply(lambda x: x['$id']['$oid'])\n",
    "brands['cpg_ref']=brands['cpg'].apply(lambda x: x['$ref'])"
   ]
  },
  {
   "cell_type": "code",
   "execution_count": 292,
   "metadata": {},
   "outputs": [
    {
     "data": {
      "text/html": [
       "<div>\n",
       "<style scoped>\n",
       "    .dataframe tbody tr th:only-of-type {\n",
       "        vertical-align: middle;\n",
       "    }\n",
       "\n",
       "    .dataframe tbody tr th {\n",
       "        vertical-align: top;\n",
       "    }\n",
       "\n",
       "    .dataframe thead th {\n",
       "        text-align: right;\n",
       "    }\n",
       "</style>\n",
       "<table border=\"1\" class=\"dataframe\">\n",
       "  <thead>\n",
       "    <tr style=\"text-align: right;\">\n",
       "      <th></th>\n",
       "      <th>_id</th>\n",
       "      <th>barcode</th>\n",
       "      <th>brandCode</th>\n",
       "      <th>category</th>\n",
       "      <th>categoryCode</th>\n",
       "      <th>cpg</th>\n",
       "      <th>name</th>\n",
       "      <th>topBrand</th>\n",
       "      <th>cpg_id</th>\n",
       "      <th>cpg_ref</th>\n",
       "    </tr>\n",
       "  </thead>\n",
       "  <tbody>\n",
       "    <tr>\n",
       "      <th>0</th>\n",
       "      <td>601ac115be37ce2ead437551</td>\n",
       "      <td>511111019862</td>\n",
       "      <td>NaN</td>\n",
       "      <td>Baking</td>\n",
       "      <td>BAKING</td>\n",
       "      <td>{'$id': {'$oid': '601ac114be37ce2ead437550'}, '$ref': 'Cogs'}</td>\n",
       "      <td>test brand @1612366101024</td>\n",
       "      <td>0.0</td>\n",
       "      <td>601ac114be37ce2ead437550</td>\n",
       "      <td>Cogs</td>\n",
       "    </tr>\n",
       "    <tr>\n",
       "      <th>1</th>\n",
       "      <td>601c5460be37ce2ead43755f</td>\n",
       "      <td>511111519928</td>\n",
       "      <td>STARBUCKS</td>\n",
       "      <td>Beverages</td>\n",
       "      <td>BEVERAGES</td>\n",
       "      <td>{'$id': {'$oid': '5332f5fbe4b03c9a25efd0ba'}, '$ref': 'Cogs'}</td>\n",
       "      <td>Starbucks</td>\n",
       "      <td>0.0</td>\n",
       "      <td>5332f5fbe4b03c9a25efd0ba</td>\n",
       "      <td>Cogs</td>\n",
       "    </tr>\n",
       "    <tr>\n",
       "      <th>2</th>\n",
       "      <td>601ac142be37ce2ead43755d</td>\n",
       "      <td>511111819905</td>\n",
       "      <td>TEST BRANDCODE @1612366146176</td>\n",
       "      <td>Baking</td>\n",
       "      <td>BAKING</td>\n",
       "      <td>{'$id': {'$oid': '601ac142be37ce2ead437559'}, '$ref': 'Cogs'}</td>\n",
       "      <td>test brand @1612366146176</td>\n",
       "      <td>0.0</td>\n",
       "      <td>601ac142be37ce2ead437559</td>\n",
       "      <td>Cogs</td>\n",
       "    </tr>\n",
       "    <tr>\n",
       "      <th>3</th>\n",
       "      <td>601ac142be37ce2ead43755a</td>\n",
       "      <td>511111519874</td>\n",
       "      <td>TEST BRANDCODE @1612366146051</td>\n",
       "      <td>Baking</td>\n",
       "      <td>BAKING</td>\n",
       "      <td>{'$id': {'$oid': '601ac142be37ce2ead437559'}, '$ref': 'Cogs'}</td>\n",
       "      <td>test brand @1612366146051</td>\n",
       "      <td>0.0</td>\n",
       "      <td>601ac142be37ce2ead437559</td>\n",
       "      <td>Cogs</td>\n",
       "    </tr>\n",
       "    <tr>\n",
       "      <th>4</th>\n",
       "      <td>601ac142be37ce2ead43755e</td>\n",
       "      <td>511111319917</td>\n",
       "      <td>TEST BRANDCODE @1612366146827</td>\n",
       "      <td>Candy &amp; Sweets</td>\n",
       "      <td>CANDY_AND_SWEETS</td>\n",
       "      <td>{'$id': {'$oid': '5332fa12e4b03c9a25efd1e7'}, '$ref': 'Cogs'}</td>\n",
       "      <td>test brand @1612366146827</td>\n",
       "      <td>0.0</td>\n",
       "      <td>5332fa12e4b03c9a25efd1e7</td>\n",
       "      <td>Cogs</td>\n",
       "    </tr>\n",
       "  </tbody>\n",
       "</table>\n",
       "</div>"
      ],
      "text/plain": [
       "                        _id       barcode                      brandCode  \\\n",
       "0  601ac115be37ce2ead437551  511111019862  NaN                             \n",
       "1  601c5460be37ce2ead43755f  511111519928  STARBUCKS                       \n",
       "2  601ac142be37ce2ead43755d  511111819905  TEST BRANDCODE @1612366146176   \n",
       "3  601ac142be37ce2ead43755a  511111519874  TEST BRANDCODE @1612366146051   \n",
       "4  601ac142be37ce2ead43755e  511111319917  TEST BRANDCODE @1612366146827   \n",
       "\n",
       "         category      categoryCode  \\\n",
       "0  Baking          BAKING             \n",
       "1  Beverages       BEVERAGES          \n",
       "2  Baking          BAKING             \n",
       "3  Baking          BAKING             \n",
       "4  Candy & Sweets  CANDY_AND_SWEETS   \n",
       "\n",
       "                                                             cpg  \\\n",
       "0  {'$id': {'$oid': '601ac114be37ce2ead437550'}, '$ref': 'Cogs'}   \n",
       "1  {'$id': {'$oid': '5332f5fbe4b03c9a25efd0ba'}, '$ref': 'Cogs'}   \n",
       "2  {'$id': {'$oid': '601ac142be37ce2ead437559'}, '$ref': 'Cogs'}   \n",
       "3  {'$id': {'$oid': '601ac142be37ce2ead437559'}, '$ref': 'Cogs'}   \n",
       "4  {'$id': {'$oid': '5332fa12e4b03c9a25efd1e7'}, '$ref': 'Cogs'}   \n",
       "\n",
       "                        name  topBrand                    cpg_id cpg_ref  \n",
       "0  test brand @1612366101024  0.0       601ac114be37ce2ead437550  Cogs    \n",
       "1  Starbucks                  0.0       5332f5fbe4b03c9a25efd0ba  Cogs    \n",
       "2  test brand @1612366146176  0.0       601ac142be37ce2ead437559  Cogs    \n",
       "3  test brand @1612366146051  0.0       601ac142be37ce2ead437559  Cogs    \n",
       "4  test brand @1612366146827  0.0       5332fa12e4b03c9a25efd1e7  Cogs    "
      ]
     },
     "execution_count": 292,
     "metadata": {},
     "output_type": "execute_result"
    }
   ],
   "source": [
    "brands.head()"
   ]
  },
  {
   "cell_type": "code",
   "execution_count": 293,
   "metadata": {},
   "outputs": [
    {
     "data": {
      "text/html": [
       "<div>\n",
       "<style scoped>\n",
       "    .dataframe tbody tr th:only-of-type {\n",
       "        vertical-align: middle;\n",
       "    }\n",
       "\n",
       "    .dataframe tbody tr th {\n",
       "        vertical-align: top;\n",
       "    }\n",
       "\n",
       "    .dataframe thead th {\n",
       "        text-align: right;\n",
       "    }\n",
       "</style>\n",
       "<table border=\"1\" class=\"dataframe\">\n",
       "  <thead>\n",
       "    <tr style=\"text-align: right;\">\n",
       "      <th></th>\n",
       "      <th>_id</th>\n",
       "      <th>barcode</th>\n",
       "      <th>brandCode</th>\n",
       "      <th>category</th>\n",
       "      <th>categoryCode</th>\n",
       "      <th>name</th>\n",
       "      <th>topBrand</th>\n",
       "      <th>cpg_id</th>\n",
       "      <th>cpg_ref</th>\n",
       "    </tr>\n",
       "  </thead>\n",
       "  <tbody>\n",
       "    <tr>\n",
       "      <th>0</th>\n",
       "      <td>601ac115be37ce2ead437551</td>\n",
       "      <td>511111019862</td>\n",
       "      <td>NaN</td>\n",
       "      <td>Baking</td>\n",
       "      <td>BAKING</td>\n",
       "      <td>test brand @1612366101024</td>\n",
       "      <td>0.0</td>\n",
       "      <td>601ac114be37ce2ead437550</td>\n",
       "      <td>Cogs</td>\n",
       "    </tr>\n",
       "    <tr>\n",
       "      <th>1</th>\n",
       "      <td>601c5460be37ce2ead43755f</td>\n",
       "      <td>511111519928</td>\n",
       "      <td>STARBUCKS</td>\n",
       "      <td>Beverages</td>\n",
       "      <td>BEVERAGES</td>\n",
       "      <td>Starbucks</td>\n",
       "      <td>0.0</td>\n",
       "      <td>5332f5fbe4b03c9a25efd0ba</td>\n",
       "      <td>Cogs</td>\n",
       "    </tr>\n",
       "    <tr>\n",
       "      <th>2</th>\n",
       "      <td>601ac142be37ce2ead43755d</td>\n",
       "      <td>511111819905</td>\n",
       "      <td>TEST BRANDCODE @1612366146176</td>\n",
       "      <td>Baking</td>\n",
       "      <td>BAKING</td>\n",
       "      <td>test brand @1612366146176</td>\n",
       "      <td>0.0</td>\n",
       "      <td>601ac142be37ce2ead437559</td>\n",
       "      <td>Cogs</td>\n",
       "    </tr>\n",
       "    <tr>\n",
       "      <th>3</th>\n",
       "      <td>601ac142be37ce2ead43755a</td>\n",
       "      <td>511111519874</td>\n",
       "      <td>TEST BRANDCODE @1612366146051</td>\n",
       "      <td>Baking</td>\n",
       "      <td>BAKING</td>\n",
       "      <td>test brand @1612366146051</td>\n",
       "      <td>0.0</td>\n",
       "      <td>601ac142be37ce2ead437559</td>\n",
       "      <td>Cogs</td>\n",
       "    </tr>\n",
       "    <tr>\n",
       "      <th>4</th>\n",
       "      <td>601ac142be37ce2ead43755e</td>\n",
       "      <td>511111319917</td>\n",
       "      <td>TEST BRANDCODE @1612366146827</td>\n",
       "      <td>Candy &amp; Sweets</td>\n",
       "      <td>CANDY_AND_SWEETS</td>\n",
       "      <td>test brand @1612366146827</td>\n",
       "      <td>0.0</td>\n",
       "      <td>5332fa12e4b03c9a25efd1e7</td>\n",
       "      <td>Cogs</td>\n",
       "    </tr>\n",
       "  </tbody>\n",
       "</table>\n",
       "</div>"
      ],
      "text/plain": [
       "                        _id       barcode                      brandCode  \\\n",
       "0  601ac115be37ce2ead437551  511111019862  NaN                             \n",
       "1  601c5460be37ce2ead43755f  511111519928  STARBUCKS                       \n",
       "2  601ac142be37ce2ead43755d  511111819905  TEST BRANDCODE @1612366146176   \n",
       "3  601ac142be37ce2ead43755a  511111519874  TEST BRANDCODE @1612366146051   \n",
       "4  601ac142be37ce2ead43755e  511111319917  TEST BRANDCODE @1612366146827   \n",
       "\n",
       "         category      categoryCode                       name  topBrand  \\\n",
       "0  Baking          BAKING            test brand @1612366101024  0.0        \n",
       "1  Beverages       BEVERAGES         Starbucks                  0.0        \n",
       "2  Baking          BAKING            test brand @1612366146176  0.0        \n",
       "3  Baking          BAKING            test brand @1612366146051  0.0        \n",
       "4  Candy & Sweets  CANDY_AND_SWEETS  test brand @1612366146827  0.0        \n",
       "\n",
       "                     cpg_id cpg_ref  \n",
       "0  601ac114be37ce2ead437550  Cogs    \n",
       "1  5332f5fbe4b03c9a25efd0ba  Cogs    \n",
       "2  601ac142be37ce2ead437559  Cogs    \n",
       "3  601ac142be37ce2ead437559  Cogs    \n",
       "4  5332fa12e4b03c9a25efd1e7  Cogs    "
      ]
     },
     "execution_count": 293,
     "metadata": {},
     "output_type": "execute_result"
    }
   ],
   "source": [
    "brands=brands.drop(['cpg'], axis=1)\n",
    "brands.head()"
   ]
  },
  {
   "cell_type": "code",
   "execution_count": 294,
   "metadata": {},
   "outputs": [],
   "source": [
    "brands['name']  = brands['name'].apply(lambda x: str(x))\n",
    "brands['cpg_ref']  = brands['cpg_ref'].apply(lambda x: str(x))\n",
    "brands['brandCode']  = brands['brandCode'].apply(lambda x: str(x))"
   ]
  },
  {
   "cell_type": "code",
   "execution_count": null,
   "metadata": {},
   "outputs": [],
   "source": []
  },
  {
   "cell_type": "code",
   "execution_count": 295,
   "metadata": {},
   "outputs": [],
   "source": [
    "brands_new.to_csv('brandstosql.csv')"
   ]
  },
  {
   "cell_type": "code",
   "execution_count": null,
   "metadata": {},
   "outputs": [],
   "source": []
  },
  {
   "cell_type": "code",
   "execution_count": 338,
   "metadata": {},
   "outputs": [
    {
     "data": {
      "text/html": [
       "<div>\n",
       "<style scoped>\n",
       "    .dataframe tbody tr th:only-of-type {\n",
       "        vertical-align: middle;\n",
       "    }\n",
       "\n",
       "    .dataframe tbody tr th {\n",
       "        vertical-align: top;\n",
       "    }\n",
       "\n",
       "    .dataframe thead th {\n",
       "        text-align: right;\n",
       "    }\n",
       "</style>\n",
       "<table border=\"1\" class=\"dataframe\">\n",
       "  <thead>\n",
       "    <tr style=\"text-align: right;\">\n",
       "      <th></th>\n",
       "      <th>_id</th>\n",
       "      <th>barcode</th>\n",
       "      <th>brandCode</th>\n",
       "      <th>category</th>\n",
       "      <th>categoryCode</th>\n",
       "      <th>name</th>\n",
       "      <th>topBrand</th>\n",
       "      <th>cpg_id</th>\n",
       "      <th>cpg_ref</th>\n",
       "    </tr>\n",
       "  </thead>\n",
       "  <tbody>\n",
       "    <tr>\n",
       "      <th>654</th>\n",
       "      <td>5f35a0babe37ce6853cff1fe</td>\n",
       "      <td>511111915355</td>\n",
       "      <td>TEST BRANDCODE @1597350074237</td>\n",
       "      <td>Baking</td>\n",
       "      <td>BAKING</td>\n",
       "      <td>test brand @1597350074236</td>\n",
       "      <td>NaN</td>\n",
       "      <td>5f35a0babe37ce6853cff1fd</td>\n",
       "      <td>Cogs</td>\n",
       "    </tr>\n",
       "  </tbody>\n",
       "</table>\n",
       "</div>"
      ],
      "text/plain": [
       "                          _id       barcode                      brandCode  \\\n",
       "654  5f35a0babe37ce6853cff1fe  511111915355  TEST BRANDCODE @1597350074237   \n",
       "\n",
       "    category categoryCode                       name  topBrand  \\\n",
       "654  Baking   BAKING       test brand @1597350074236 NaN         \n",
       "\n",
       "                       cpg_id cpg_ref  \n",
       "654  5f35a0babe37ce6853cff1fd  Cogs    "
      ]
     },
     "execution_count": 338,
     "metadata": {},
     "output_type": "execute_result"
    }
   ],
   "source": [
    "brands.sample()"
   ]
  },
  {
   "cell_type": "code",
   "execution_count": 310,
   "metadata": {},
   "outputs": [
    {
     "data": {
      "text/html": [
       "<div>\n",
       "<style scoped>\n",
       "    .dataframe tbody tr th:only-of-type {\n",
       "        vertical-align: middle;\n",
       "    }\n",
       "\n",
       "    .dataframe tbody tr th {\n",
       "        vertical-align: top;\n",
       "    }\n",
       "\n",
       "    .dataframe thead th {\n",
       "        text-align: right;\n",
       "    }\n",
       "</style>\n",
       "<table border=\"1\" class=\"dataframe\">\n",
       "  <thead>\n",
       "    <tr style=\"text-align: right;\">\n",
       "      <th></th>\n",
       "      <th>_id</th>\n",
       "      <th>active</th>\n",
       "      <th>createdDate</th>\n",
       "      <th>lastLogin</th>\n",
       "      <th>role</th>\n",
       "      <th>signUpSource</th>\n",
       "      <th>state</th>\n",
       "    </tr>\n",
       "  </thead>\n",
       "  <tbody>\n",
       "    <tr>\n",
       "      <th>138</th>\n",
       "      <td>5ffc9d9f04929111f6e92456</td>\n",
       "      <td>True</td>\n",
       "      <td>2021-01-11 18:49:03</td>\n",
       "      <td>2021-01-11 18:49:03</td>\n",
       "      <td>consumer</td>\n",
       "      <td>Email</td>\n",
       "      <td>WI</td>\n",
       "    </tr>\n",
       "  </tbody>\n",
       "</table>\n",
       "</div>"
      ],
      "text/plain": [
       "                          _id  active          createdDate  \\\n",
       "138  5ffc9d9f04929111f6e92456  True    2021-01-11 18:49:03   \n",
       "\n",
       "               lastLogin      role signUpSource state  \n",
       "138  2021-01-11 18:49:03  consumer  Email        WI    "
      ]
     },
     "execution_count": 310,
     "metadata": {},
     "output_type": "execute_result"
    }
   ],
   "source": [
    "users.sample()"
   ]
  },
  {
   "cell_type": "code",
   "execution_count": 311,
   "metadata": {},
   "outputs": [
    {
     "data": {
      "text/html": [
       "<div>\n",
       "<style scoped>\n",
       "    .dataframe tbody tr th:only-of-type {\n",
       "        vertical-align: middle;\n",
       "    }\n",
       "\n",
       "    .dataframe tbody tr th {\n",
       "        vertical-align: top;\n",
       "    }\n",
       "\n",
       "    .dataframe thead th {\n",
       "        text-align: right;\n",
       "    }\n",
       "</style>\n",
       "<table border=\"1\" class=\"dataframe\">\n",
       "  <thead>\n",
       "    <tr style=\"text-align: right;\">\n",
       "      <th></th>\n",
       "      <th>barcode</th>\n",
       "      <th>brandCode</th>\n",
       "      <th>competitiveProduct</th>\n",
       "      <th>competitorRewardsGroup</th>\n",
       "      <th>deleted</th>\n",
       "      <th>description</th>\n",
       "      <th>discountedItemPrice</th>\n",
       "      <th>finalPrice</th>\n",
       "      <th>itemNumber</th>\n",
       "      <th>itemPrice</th>\n",
       "      <th>...</th>\n",
       "      <th>rewardsProductPartnerId</th>\n",
       "      <th>targetPrice</th>\n",
       "      <th>userFlaggedBarcode</th>\n",
       "      <th>userFlaggedDescription</th>\n",
       "      <th>userFlaggedNewItem</th>\n",
       "      <th>userFlaggedPrice</th>\n",
       "      <th>userFlaggedQuantity</th>\n",
       "      <th>rewardsReceiptStatus</th>\n",
       "      <th>receipts_id</th>\n",
       "      <th>rewards_id</th>\n",
       "    </tr>\n",
       "  </thead>\n",
       "  <tbody>\n",
       "    <tr>\n",
       "      <th>49</th>\n",
       "      <td>046704085905</td>\n",
       "      <td>NaN</td>\n",
       "      <td>NaN</td>\n",
       "      <td>NaN</td>\n",
       "      <td>NaN</td>\n",
       "      <td>T.G.I. FRIDAY'S(r) Frozen Loaded Baked Potato Cheese Spread DIP BOX 8 OZ 004670408590</td>\n",
       "      <td>NaN</td>\n",
       "      <td>4.55</td>\n",
       "      <td>NaN</td>\n",
       "      <td>4.55</td>\n",
       "      <td>...</td>\n",
       "      <td>559c2234e4b06aca36af13c6</td>\n",
       "      <td>NaN</td>\n",
       "      <td>NaN</td>\n",
       "      <td>NaN</td>\n",
       "      <td>NaN</td>\n",
       "      <td>NaN</td>\n",
       "      <td>NaN</td>\n",
       "      <td>FINISHED</td>\n",
       "      <td>5ff36c6d0a720f0523000597</td>\n",
       "      <td>50.0</td>\n",
       "    </tr>\n",
       "  </tbody>\n",
       "</table>\n",
       "<p>1 rows × 35 columns</p>\n",
       "</div>"
      ],
      "text/plain": [
       "         barcode brandCode competitiveProduct competitorRewardsGroup deleted  \\\n",
       "49  046704085905  NaN       NaN                NaN                    NaN      \n",
       "\n",
       "                                                                              description  \\\n",
       "49  T.G.I. FRIDAY'S(r) Frozen Loaded Baked Potato Cheese Spread DIP BOX 8 OZ 004670408590   \n",
       "\n",
       "   discountedItemPrice finalPrice itemNumber itemPrice  ...  \\\n",
       "49  NaN                 4.55       NaN        4.55      ...   \n",
       "\n",
       "     rewardsProductPartnerId targetPrice userFlaggedBarcode  \\\n",
       "49  559c2234e4b06aca36af13c6  NaN         NaN                 \n",
       "\n",
       "   userFlaggedDescription userFlaggedNewItem  userFlaggedPrice  \\\n",
       "49  NaN                    NaN                NaN                \n",
       "\n",
       "   userFlaggedQuantity rewardsReceiptStatus               receipts_id  \\\n",
       "49 NaN                  FINISHED             5ff36c6d0a720f0523000597   \n",
       "\n",
       "   rewards_id  \n",
       "49  50.0       \n",
       "\n",
       "[1 rows x 35 columns]"
      ]
     },
     "execution_count": 311,
     "metadata": {},
     "output_type": "execute_result"
    }
   ],
   "source": [
    "rewards_receipts_item.sample()"
   ]
  },
  {
   "cell_type": "code",
   "execution_count": 313,
   "metadata": {},
   "outputs": [
    {
     "data": {
      "text/html": [
       "<div>\n",
       "<style scoped>\n",
       "    .dataframe tbody tr th:only-of-type {\n",
       "        vertical-align: middle;\n",
       "    }\n",
       "\n",
       "    .dataframe tbody tr th {\n",
       "        vertical-align: top;\n",
       "    }\n",
       "\n",
       "    .dataframe thead th {\n",
       "        text-align: right;\n",
       "    }\n",
       "</style>\n",
       "<table border=\"1\" class=\"dataframe\">\n",
       "  <thead>\n",
       "    <tr style=\"text-align: right;\">\n",
       "      <th></th>\n",
       "      <th>_id</th>\n",
       "      <th>bonusPointsEarned</th>\n",
       "      <th>bonusPointsEarnedReason</th>\n",
       "      <th>createDate</th>\n",
       "      <th>dateScanned</th>\n",
       "      <th>finishedDate</th>\n",
       "      <th>modifyDate</th>\n",
       "      <th>pointsAwardedDate</th>\n",
       "      <th>pointsEarned</th>\n",
       "      <th>purchaseDate</th>\n",
       "      <th>purchasedItemCount</th>\n",
       "      <th>rewardsReceiptStatus</th>\n",
       "      <th>totalSpent</th>\n",
       "      <th>userId</th>\n",
       "    </tr>\n",
       "  </thead>\n",
       "  <tbody>\n",
       "    <tr>\n",
       "      <th>1091</th>\n",
       "      <td>603c8cdf0a7217c72c0003bb</td>\n",
       "      <td>NaN</td>\n",
       "      <td>NaN</td>\n",
       "      <td>2021-03-01 06:42:39</td>\n",
       "      <td>2021-03-01 06:42:39</td>\n",
       "      <td>None</td>\n",
       "      <td>2021-03-01 06:42:39</td>\n",
       "      <td>None</td>\n",
       "      <td>NaN</td>\n",
       "      <td>None</td>\n",
       "      <td>NaN</td>\n",
       "      <td>SUBMITTED</td>\n",
       "      <td>NaN</td>\n",
       "      <td>5fc961c3b8cfca11a077dd33</td>\n",
       "    </tr>\n",
       "  </tbody>\n",
       "</table>\n",
       "</div>"
      ],
      "text/plain": [
       "                           _id  bonusPointsEarned bonusPointsEarnedReason  \\\n",
       "1091  603c8cdf0a7217c72c0003bb NaN                 NaN                      \n",
       "\n",
       "               createDate          dateScanned finishedDate  \\\n",
       "1091  2021-03-01 06:42:39  2021-03-01 06:42:39  None          \n",
       "\n",
       "               modifyDate pointsAwardedDate  pointsEarned purchaseDate  \\\n",
       "1091  2021-03-01 06:42:39  None             NaN            None          \n",
       "\n",
       "      purchasedItemCount rewardsReceiptStatus  totalSpent  \\\n",
       "1091 NaN                  SUBMITTED           NaN           \n",
       "\n",
       "                        userId  \n",
       "1091  5fc961c3b8cfca11a077dd33  "
      ]
     },
     "execution_count": 313,
     "metadata": {},
     "output_type": "execute_result"
    }
   ],
   "source": [
    "receipts.sample()"
   ]
  },
  {
   "cell_type": "markdown",
   "metadata": {},
   "source": [
    "# Data Quality Issue\n",
    "\n",
    "### Check Duplicate Users"
   ]
  },
  {
   "cell_type": "code",
   "execution_count": 302,
   "metadata": {},
   "outputs": [],
   "source": [
    "users_after_all_columns_duplicate_removal = users.drop_duplicates()"
   ]
  },
  {
   "cell_type": "code",
   "execution_count": 305,
   "metadata": {},
   "outputs": [],
   "source": [
    "unique_users, total_users = (len(users_after_all_columns_duplicate_removal),len(users))"
   ]
  },
  {
   "cell_type": "code",
   "execution_count": 306,
   "metadata": {},
   "outputs": [
    {
     "name": "stdout",
     "output_type": "stream",
     "text": [
      "Total Number of Duplicate(All the columns) Users: 283\n"
     ]
    }
   ],
   "source": [
    "print('Total Number of Duplicate(All the columns) Users:',total_users-unique_users)"
   ]
  },
  {
   "cell_type": "code",
   "execution_count": 307,
   "metadata": {},
   "outputs": [],
   "source": [
    "users_after_all_ids_duplicate_removal = users['_id'].drop_duplicates()"
   ]
  },
  {
   "cell_type": "code",
   "execution_count": 308,
   "metadata": {},
   "outputs": [],
   "source": [
    "unique_users, total_users = (len(users_after_all_ids_duplicate_removal),len(users))"
   ]
  },
  {
   "cell_type": "code",
   "execution_count": 309,
   "metadata": {},
   "outputs": [
    {
     "name": "stdout",
     "output_type": "stream",
     "text": [
      "Total Number of Duplicate(IDS) Users: 283\n"
     ]
    }
   ],
   "source": [
    "print('Total Number of Duplicate(IDS) Users:',total_users-unique_users)"
   ]
  },
  {
   "cell_type": "markdown",
   "metadata": {},
   "source": [
    "### Check If we have missing prices in Receipts"
   ]
  },
  {
   "cell_type": "code",
   "execution_count": 312,
   "metadata": {},
   "outputs": [
    {
     "data": {
      "text/plain": [
       "Index(['barcode', 'brandCode', 'competitiveProduct', 'competitorRewardsGroup',\n",
       "       'deleted', 'description', 'discountedItemPrice', 'finalPrice',\n",
       "       'itemNumber', 'itemPrice', 'metabriteCampaignId', 'needsFetchReview',\n",
       "       'needsFetchReviewReason', 'originalMetaBriteBarcode',\n",
       "       'originalMetaBriteDescription', 'originalMetaBriteQuantityPurchased',\n",
       "       'originalReceiptItemText', 'partnerItemId', 'pointsEarned',\n",
       "       'pointsNotAwardedReason', 'pointsPayerId', 'preventTargetGapPoints',\n",
       "       'priceAfterCoupon', 'quantityPurchased', 'rewardsGroup',\n",
       "       'rewardsProductPartnerId', 'targetPrice', 'userFlaggedBarcode',\n",
       "       'userFlaggedDescription', 'userFlaggedNewItem', 'userFlaggedPrice',\n",
       "       'userFlaggedQuantity', 'rewardsReceiptStatus', 'receipts_id',\n",
       "       'rewards_id'],\n",
       "      dtype='object')"
      ]
     },
     "execution_count": 312,
     "metadata": {},
     "output_type": "execute_result"
    }
   ],
   "source": [
    "rewards_receipts_item.columns"
   ]
  },
  {
   "cell_type": "code",
   "execution_count": 318,
   "metadata": {},
   "outputs": [
    {
     "data": {
      "text/html": [
       "<div>\n",
       "<style scoped>\n",
       "    .dataframe tbody tr th:only-of-type {\n",
       "        vertical-align: middle;\n",
       "    }\n",
       "\n",
       "    .dataframe tbody tr th {\n",
       "        vertical-align: top;\n",
       "    }\n",
       "\n",
       "    .dataframe thead th {\n",
       "        text-align: right;\n",
       "    }\n",
       "</style>\n",
       "<table border=\"1\" class=\"dataframe\">\n",
       "  <thead>\n",
       "    <tr style=\"text-align: right;\">\n",
       "      <th></th>\n",
       "      <th>itemPrice</th>\n",
       "      <th>targetPrice</th>\n",
       "      <th>finalPrice</th>\n",
       "    </tr>\n",
       "  </thead>\n",
       "  <tbody>\n",
       "    <tr>\n",
       "      <th>0</th>\n",
       "      <td>26.00</td>\n",
       "      <td>NaN</td>\n",
       "      <td>26.00</td>\n",
       "    </tr>\n",
       "    <tr>\n",
       "      <th>1</th>\n",
       "      <td>1</td>\n",
       "      <td>NaN</td>\n",
       "      <td>1</td>\n",
       "    </tr>\n",
       "    <tr>\n",
       "      <th>2</th>\n",
       "      <td>NaN</td>\n",
       "      <td>NaN</td>\n",
       "      <td>NaN</td>\n",
       "    </tr>\n",
       "    <tr>\n",
       "      <th>3</th>\n",
       "      <td>28.00</td>\n",
       "      <td>NaN</td>\n",
       "      <td>28.00</td>\n",
       "    </tr>\n",
       "    <tr>\n",
       "      <th>4</th>\n",
       "      <td>1</td>\n",
       "      <td>NaN</td>\n",
       "      <td>1</td>\n",
       "    </tr>\n",
       "  </tbody>\n",
       "</table>\n",
       "</div>"
      ],
      "text/plain": [
       "  itemPrice targetPrice finalPrice\n",
       "0  26.00     NaN         26.00    \n",
       "1  1         NaN         1        \n",
       "2  NaN       NaN         NaN      \n",
       "3  28.00     NaN         28.00    \n",
       "4  1         NaN         1        "
      ]
     },
     "execution_count": 318,
     "metadata": {},
     "output_type": "execute_result"
    }
   ],
   "source": [
    "rewards_receipts_item[['itemPrice','targetPrice','finalPrice']].head()"
   ]
  },
  {
   "cell_type": "code",
   "execution_count": 317,
   "metadata": {},
   "outputs": [
    {
     "data": {
      "text/plain": [
       "0.0"
      ]
     },
     "execution_count": 317,
     "metadata": {},
     "output_type": "execute_result"
    }
   ],
   "source": [
    "(rewards_receipts_item['itemPrice'].astype(float) - rewards_receipts_item['finalPrice'].astype(float)).dropna().sum()"
   ]
  },
  {
   "cell_type": "markdown",
   "metadata": {},
   "source": [
    "This shows that the columns 'itemPrice' and 'finalPrice' have exactly same data. Lets check if we have any price set to Nan"
   ]
  },
  {
   "cell_type": "code",
   "execution_count": 319,
   "metadata": {},
   "outputs": [
    {
     "data": {
      "text/plain": [
       "14"
      ]
     },
     "execution_count": 319,
     "metadata": {},
     "output_type": "execute_result"
    }
   ],
   "source": [
    "rewards_receipts_item['finalPrice'].isna().sum()"
   ]
  },
  {
   "cell_type": "code",
   "execution_count": 324,
   "metadata": {},
   "outputs": [
    {
     "name": "stdout",
     "output_type": "stream",
     "text": [
      "Out of  679 Samples, 14 samples have NaN as Final Price\n"
     ]
    }
   ],
   "source": [
    "print('Out of ',len(rewards_receipts_item),'Samples,',rewards_receipts_item['finalPrice'].isna().sum(),'samples have NaN as Final Price')"
   ]
  },
  {
   "cell_type": "markdown",
   "metadata": {},
   "source": [
    "### Check if we have missing total spent amount from receipts"
   ]
  },
  {
   "cell_type": "code",
   "execution_count": 326,
   "metadata": {},
   "outputs": [
    {
     "data": {
      "text/plain": [
       "Index(['_id', 'bonusPointsEarned', 'bonusPointsEarnedReason', 'createDate',\n",
       "       'dateScanned', 'finishedDate', 'modifyDate', 'pointsAwardedDate',\n",
       "       'pointsEarned', 'purchaseDate', 'purchasedItemCount',\n",
       "       'rewardsReceiptStatus', 'totalSpent', 'userId'],\n",
       "      dtype='object')"
      ]
     },
     "execution_count": 326,
     "metadata": {},
     "output_type": "execute_result"
    }
   ],
   "source": [
    "receipts.columns"
   ]
  },
  {
   "cell_type": "code",
   "execution_count": 335,
   "metadata": {},
   "outputs": [
    {
     "name": "stdout",
     "output_type": "stream",
     "text": [
      "Out of  1119 Samples, 435 samples have NaN as totalSpent\n"
     ]
    }
   ],
   "source": [
    "print('Out of ',len(receipts),'Samples,',receipts['totalSpent'].isna().sum(),'samples have NaN as totalSpent')"
   ]
  },
  {
   "cell_type": "markdown",
   "metadata": {},
   "source": [
    "### Check if we have unique barcodes"
   ]
  },
  {
   "cell_type": "code",
   "execution_count": 339,
   "metadata": {},
   "outputs": [
    {
     "data": {
      "text/plain": [
       "Index(['_id', 'barcode', 'brandCode', 'category', 'categoryCode', 'name',\n",
       "       'topBrand', 'cpg_id', 'cpg_ref'],\n",
       "      dtype='object')"
      ]
     },
     "execution_count": 339,
     "metadata": {},
     "output_type": "execute_result"
    }
   ],
   "source": [
    "brands.columns"
   ]
  },
  {
   "cell_type": "markdown",
   "metadata": {},
   "source": [
    "Bar Code of all the products must be unique"
   ]
  },
  {
   "cell_type": "code",
   "execution_count": 340,
   "metadata": {},
   "outputs": [],
   "source": [
    "brands_temp = brands[brands['barcode'].notna()]"
   ]
  },
  {
   "cell_type": "code",
   "execution_count": 342,
   "metadata": {},
   "outputs": [],
   "source": [
    "brands_removing_duplicate_barcodes =brands_temp['barcode'].drop_duplicates()"
   ]
  },
  {
   "cell_type": "code",
   "execution_count": 343,
   "metadata": {},
   "outputs": [],
   "source": [
    "unique_users, total_users = (len(brands_removing_duplicate_barcodes),len(brands_temp))"
   ]
  },
  {
   "cell_type": "code",
   "execution_count": 344,
   "metadata": {},
   "outputs": [
    {
     "name": "stdout",
     "output_type": "stream",
     "text": [
      "Total Number of Duplicate BarCodes: 7\n"
     ]
    }
   ],
   "source": [
    "print('Total Number of Duplicate BarCodes:',total_users-unique_users)"
   ]
  },
  {
   "cell_type": "markdown",
   "metadata": {},
   "source": [
    "We have 7 Duplicate Barcodes, which might cause an issue\n",
    "\n",
    "\n",
    "### Mactching Barcode and brandcode from Brands to that of  rewards_receipts_item"
   ]
  },
  {
   "cell_type": "code",
   "execution_count": 345,
   "metadata": {},
   "outputs": [
    {
     "data": {
      "text/plain": [
       "Index(['barcode', 'brandCode', 'competitiveProduct', 'competitorRewardsGroup',\n",
       "       'deleted', 'description', 'discountedItemPrice', 'finalPrice',\n",
       "       'itemNumber', 'itemPrice', 'metabriteCampaignId', 'needsFetchReview',\n",
       "       'needsFetchReviewReason', 'originalMetaBriteBarcode',\n",
       "       'originalMetaBriteDescription', 'originalMetaBriteQuantityPurchased',\n",
       "       'originalReceiptItemText', 'partnerItemId', 'pointsEarned',\n",
       "       'pointsNotAwardedReason', 'pointsPayerId', 'preventTargetGapPoints',\n",
       "       'priceAfterCoupon', 'quantityPurchased', 'rewardsGroup',\n",
       "       'rewardsProductPartnerId', 'targetPrice', 'userFlaggedBarcode',\n",
       "       'userFlaggedDescription', 'userFlaggedNewItem', 'userFlaggedPrice',\n",
       "       'userFlaggedQuantity', 'rewardsReceiptStatus', 'receipts_id',\n",
       "       'rewards_id'],\n",
       "      dtype='object')"
      ]
     },
     "execution_count": 345,
     "metadata": {},
     "output_type": "execute_result"
    }
   ],
   "source": [
    "rewards_receipts_item.columns"
   ]
  },
  {
   "cell_type": "code",
   "execution_count": 347,
   "metadata": {},
   "outputs": [
    {
     "data": {
      "text/plain": [
       "Index(['_id', 'barcode', 'brandCode', 'category', 'categoryCode', 'name',\n",
       "       'topBrand', 'cpg_id', 'cpg_ref'],\n",
       "      dtype='object')"
      ]
     },
     "execution_count": 347,
     "metadata": {},
     "output_type": "execute_result"
    }
   ],
   "source": [
    "brands.columns"
   ]
  },
  {
   "cell_type": "code",
   "execution_count": 358,
   "metadata": {},
   "outputs": [],
   "source": [
    "uniques_barcodes_in_receipts_items = set(rewards_receipts_item['brandCode'].dropna())\n",
    "uniques_barcodes_in_brands = set(brands['brandCode'].dropna())"
   ]
  },
  {
   "cell_type": "code",
   "execution_count": 365,
   "metadata": {},
   "outputs": [],
   "source": [
    "intersection = uniques_barcodes_in_receipts_items.intersection(uniques_barcodes_in_brands)\n",
    "a = len(uniques_barcodes_in_receipts_items - intersection)"
   ]
  },
  {
   "cell_type": "code",
   "execution_count": 366,
   "metadata": {},
   "outputs": [],
   "source": [
    "b = len(uniques_barcodes_in_receipts_items)"
   ]
  },
  {
   "cell_type": "code",
   "execution_count": 361,
   "metadata": {},
   "outputs": [
    {
     "data": {
      "text/plain": [
       "898"
      ]
     },
     "execution_count": 361,
     "metadata": {},
     "output_type": "execute_result"
    }
   ],
   "source": [
    "len(uniques_barcodes_in_brands)"
   ]
  },
  {
   "cell_type": "code",
   "execution_count": 368,
   "metadata": {},
   "outputs": [
    {
     "name": "stdout",
     "output_type": "stream",
     "text": [
      "Out of 18 samples, 12 smaples do naot have a match in the brands table\n"
     ]
    }
   ],
   "source": [
    "print('Out of',str(b),'samples,',str(a),'smaples do naot have a match in the brands table')"
   ]
  },
  {
   "cell_type": "markdown",
   "metadata": {},
   "source": [
    "Also, the barcodes present in the table 'rewards_receipts_item' do not have a single match with barcodes in table 'brands'"
   ]
  },
  {
   "cell_type": "code",
   "execution_count": null,
   "metadata": {},
   "outputs": [],
   "source": []
  }
 ],
 "metadata": {
  "kernelspec": {
   "display_name": "Python 3",
   "language": "python",
   "name": "python3"
  },
  "language_info": {
   "codemirror_mode": {
    "name": "ipython",
    "version": 3
   },
   "file_extension": ".py",
   "mimetype": "text/x-python",
   "name": "python",
   "nbconvert_exporter": "python",
   "pygments_lexer": "ipython3",
   "version": "3.7.3"
  }
 },
 "nbformat": 4,
 "nbformat_minor": 2
}
