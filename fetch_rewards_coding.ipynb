{
 "cells": [
  {
   "cell_type": "markdown",
   "metadata": {},
   "source": [
    "# Fetch Rewards Coding Exercise - Data Analyst"
   ]
  },
  {
   "cell_type": "markdown",
   "metadata": {},
   "source": [
    "\n",
    "#### AUTHOR : Viraj Shukla\n",
    "\n",
    "#### DATE CREATED : (Saturday) 2nd October 2021\n",
    "\n",
    "#### DESC: \n",
    "In this python notebook I will be addressing following requirement and processing the given Json data into structured data.\n",
    "\n",
    "#### What are the requirements?\n",
    "1.Review unstructured JSON data and diagram a new structured relational data model\n",
    "\n",
    "2.Generate a query that answers a predetermined business question\n",
    "\n",
    "3.Generate a query to capture data quality issues against the new structured relational data model\n",
    "\n",
    "4.Write a short email or Slack message to the business stakeholder\n"
   ]
  },
  {
   "cell_type": "markdown",
   "metadata": {},
   "source": [
    "## 1. Review unstructured JSON data and diagram a new structured relational data model\n",
    "#### First step is process and clean the nested JSON data into simplified structured data and to understand it for data modeling"
   ]
  },
  {
   "cell_type": "code",
   "execution_count": 541,
   "metadata": {},
   "outputs": [],
   "source": [
    "#importing famous pandas library for processing data and datetime for date conversion\n",
    "import pandas as pd\n",
    "from datetime import datetime"
   ]
  },
  {
   "cell_type": "markdown",
   "metadata": {},
   "source": [
    "#### JSON data is provided in 3 zip files (receipts,users, brands), firstly I extracted the zip files and loaded the JSON files using the following pandas function."
   ]
  },
  {
   "cell_type": "code",
   "execution_count": 542,
   "metadata": {
    "scrolled": true
   },
   "outputs": [
    {
     "name": "stdout",
     "output_type": "stream",
     "text": [
      "<class 'pandas.core.frame.DataFrame'>\n",
      "RangeIndex: 1119 entries, 0 to 1118\n",
      "Data columns (total 15 columns):\n",
      "_id                        1119 non-null object\n",
      "bonusPointsEarned          544 non-null float64\n",
      "bonusPointsEarnedReason    544 non-null object\n",
      "createDate                 1119 non-null object\n",
      "dateScanned                1119 non-null object\n",
      "finishedDate               568 non-null object\n",
      "modifyDate                 1119 non-null object\n",
      "pointsAwardedDate          537 non-null object\n",
      "pointsEarned               609 non-null float64\n",
      "purchaseDate               671 non-null object\n",
      "purchasedItemCount         635 non-null float64\n",
      "rewardsReceiptItemList     679 non-null object\n",
      "rewardsReceiptStatus       1119 non-null object\n",
      "totalSpent                 684 non-null float64\n",
      "userId                     1119 non-null object\n",
      "dtypes: float64(4), object(11)\n",
      "memory usage: 131.2+ KB\n"
     ]
    },
    {
     "data": {
      "text/html": [
       "<div>\n",
       "<style scoped>\n",
       "    .dataframe tbody tr th:only-of-type {\n",
       "        vertical-align: middle;\n",
       "    }\n",
       "\n",
       "    .dataframe tbody tr th {\n",
       "        vertical-align: top;\n",
       "    }\n",
       "\n",
       "    .dataframe thead th {\n",
       "        text-align: right;\n",
       "    }\n",
       "</style>\n",
       "<table border=\"1\" class=\"dataframe\">\n",
       "  <thead>\n",
       "    <tr style=\"text-align: right;\">\n",
       "      <th></th>\n",
       "      <th>_id</th>\n",
       "      <th>bonusPointsEarned</th>\n",
       "      <th>bonusPointsEarnedReason</th>\n",
       "      <th>createDate</th>\n",
       "      <th>dateScanned</th>\n",
       "      <th>finishedDate</th>\n",
       "      <th>modifyDate</th>\n",
       "      <th>pointsAwardedDate</th>\n",
       "      <th>pointsEarned</th>\n",
       "      <th>purchaseDate</th>\n",
       "      <th>purchasedItemCount</th>\n",
       "      <th>rewardsReceiptItemList</th>\n",
       "      <th>rewardsReceiptStatus</th>\n",
       "      <th>totalSpent</th>\n",
       "      <th>userId</th>\n",
       "    </tr>\n",
       "  </thead>\n",
       "  <tbody>\n",
       "    <tr>\n",
       "      <th>0</th>\n",
       "      <td>{'$oid': '5ff1e1eb0a720f0523000575'}</td>\n",
       "      <td>500.0</td>\n",
       "      <td>Receipt number 2 completed, bonus point schedule DEFAULT (5cefdcacf3693e0b50e83a36)</td>\n",
       "      <td>{'$date': 1609687531000}</td>\n",
       "      <td>{'$date': 1609687531000}</td>\n",
       "      <td>{'$date': 1609687531000}</td>\n",
       "      <td>{'$date': 1609687536000}</td>\n",
       "      <td>{'$date': 1609687531000}</td>\n",
       "      <td>500.0</td>\n",
       "      <td>{'$date': 1609632000000}</td>\n",
       "      <td>5.0</td>\n",
       "      <td>[{'barcode': '4011', 'description': 'ITEM NOT FOUND', 'finalPrice': '26.00', 'itemPrice': '26.00', 'needsFetchReview': False, 'partnerItemId': '1', 'preventTargetGapPoints': True, 'quantityPurchased': 5, 'userFlaggedBarcode': '4011', 'userFlaggedNewItem': True, 'userFlaggedPrice': '26.00', 'userFlaggedQuantity': 5}]</td>\n",
       "      <td>FINISHED</td>\n",
       "      <td>26.0</td>\n",
       "      <td>5ff1e1eacfcf6c399c274ae6</td>\n",
       "    </tr>\n",
       "    <tr>\n",
       "      <th>1</th>\n",
       "      <td>{'$oid': '5ff1e1bb0a720f052300056b'}</td>\n",
       "      <td>150.0</td>\n",
       "      <td>Receipt number 5 completed, bonus point schedule DEFAULT (5cefdcacf3693e0b50e83a36)</td>\n",
       "      <td>{'$date': 1609687483000}</td>\n",
       "      <td>{'$date': 1609687483000}</td>\n",
       "      <td>{'$date': 1609687483000}</td>\n",
       "      <td>{'$date': 1609687488000}</td>\n",
       "      <td>{'$date': 1609687483000}</td>\n",
       "      <td>150.0</td>\n",
       "      <td>{'$date': 1609601083000}</td>\n",
       "      <td>2.0</td>\n",
       "      <td>[{'barcode': '4011', 'description': 'ITEM NOT FOUND', 'finalPrice': '1', 'itemPrice': '1', 'partnerItemId': '1', 'quantityPurchased': 1}, {'barcode': '028400642255', 'description': 'DORITOS TORTILLA CHIP SPICY SWEET CHILI REDUCED FAT BAG 1 OZ', 'finalPrice': '10.00', 'itemPrice': '10.00', 'needsFetchReview': True, 'needsFetchReviewReason': 'USER_FLAGGED', 'partnerItemId': '2', 'pointsNotAwardedReason': 'Action not allowed for user and CPG', 'pointsPayerId': '5332f5fbe4b03c9a25efd0ba', 'preventTargetGapPoints': True, 'quantityPurchased': 1, 'rewardsGroup': 'DORITOS SPICY SWEET CHILI SINGLE SERVE', 'rewardsProductPartnerId': '5332f5fbe4b03c9a25efd0ba', 'userFlaggedBarcode': '028400642255', 'userFlaggedDescription': 'DORITOS TORTILLA CHIP SPICY SWEET CHILI REDUCED FAT BAG 1 OZ', 'userFlaggedNewItem': True, 'userFlaggedPrice': '10.00', 'userFlaggedQuantity': 1}]</td>\n",
       "      <td>FINISHED</td>\n",
       "      <td>11.0</td>\n",
       "      <td>5ff1e194b6a9d73a3a9f1052</td>\n",
       "    </tr>\n",
       "    <tr>\n",
       "      <th>2</th>\n",
       "      <td>{'$oid': '5ff1e1f10a720f052300057a'}</td>\n",
       "      <td>5.0</td>\n",
       "      <td>All-receipts receipt bonus</td>\n",
       "      <td>{'$date': 1609687537000}</td>\n",
       "      <td>{'$date': 1609687537000}</td>\n",
       "      <td>NaN</td>\n",
       "      <td>{'$date': 1609687542000}</td>\n",
       "      <td>NaN</td>\n",
       "      <td>5.0</td>\n",
       "      <td>{'$date': 1609632000000}</td>\n",
       "      <td>1.0</td>\n",
       "      <td>[{'needsFetchReview': False, 'partnerItemId': '1', 'preventTargetGapPoints': True, 'userFlaggedBarcode': '4011', 'userFlaggedNewItem': True, 'userFlaggedPrice': '26.00', 'userFlaggedQuantity': 3}]</td>\n",
       "      <td>REJECTED</td>\n",
       "      <td>10.0</td>\n",
       "      <td>5ff1e1f1cfcf6c399c274b0b</td>\n",
       "    </tr>\n",
       "  </tbody>\n",
       "</table>\n",
       "</div>"
      ],
      "text/plain": [
       "                                    _id  bonusPointsEarned  \\\n",
       "0  {'$oid': '5ff1e1eb0a720f0523000575'}  500.0               \n",
       "1  {'$oid': '5ff1e1bb0a720f052300056b'}  150.0               \n",
       "2  {'$oid': '5ff1e1f10a720f052300057a'}  5.0                 \n",
       "\n",
       "                                                               bonusPointsEarnedReason  \\\n",
       "0  Receipt number 2 completed, bonus point schedule DEFAULT (5cefdcacf3693e0b50e83a36)   \n",
       "1  Receipt number 5 completed, bonus point schedule DEFAULT (5cefdcacf3693e0b50e83a36)   \n",
       "2  All-receipts receipt bonus                                                            \n",
       "\n",
       "                 createDate               dateScanned  \\\n",
       "0  {'$date': 1609687531000}  {'$date': 1609687531000}   \n",
       "1  {'$date': 1609687483000}  {'$date': 1609687483000}   \n",
       "2  {'$date': 1609687537000}  {'$date': 1609687537000}   \n",
       "\n",
       "               finishedDate                modifyDate  \\\n",
       "0  {'$date': 1609687531000}  {'$date': 1609687536000}   \n",
       "1  {'$date': 1609687483000}  {'$date': 1609687488000}   \n",
       "2  NaN                       {'$date': 1609687542000}   \n",
       "\n",
       "          pointsAwardedDate  pointsEarned              purchaseDate  \\\n",
       "0  {'$date': 1609687531000}  500.0         {'$date': 1609632000000}   \n",
       "1  {'$date': 1609687483000}  150.0         {'$date': 1609601083000}   \n",
       "2  NaN                       5.0           {'$date': 1609632000000}   \n",
       "\n",
       "   purchasedItemCount  \\\n",
       "0  5.0                  \n",
       "1  2.0                  \n",
       "2  1.0                  \n",
       "\n",
       "                                                                                                                                                                                                                                                                                                                                                                                                                                                                                                                                                                                                                                                                                                                                                                                                                                                                                   rewardsReceiptItemList  \\\n",
       "0  [{'barcode': '4011', 'description': 'ITEM NOT FOUND', 'finalPrice': '26.00', 'itemPrice': '26.00', 'needsFetchReview': False, 'partnerItemId': '1', 'preventTargetGapPoints': True, 'quantityPurchased': 5, 'userFlaggedBarcode': '4011', 'userFlaggedNewItem': True, 'userFlaggedPrice': '26.00', 'userFlaggedQuantity': 5}]                                                                                                                                                                                                                                                                                                                                                                                                                                                                                                                                                                            \n",
       "1  [{'barcode': '4011', 'description': 'ITEM NOT FOUND', 'finalPrice': '1', 'itemPrice': '1', 'partnerItemId': '1', 'quantityPurchased': 1}, {'barcode': '028400642255', 'description': 'DORITOS TORTILLA CHIP SPICY SWEET CHILI REDUCED FAT BAG 1 OZ', 'finalPrice': '10.00', 'itemPrice': '10.00', 'needsFetchReview': True, 'needsFetchReviewReason': 'USER_FLAGGED', 'partnerItemId': '2', 'pointsNotAwardedReason': 'Action not allowed for user and CPG', 'pointsPayerId': '5332f5fbe4b03c9a25efd0ba', 'preventTargetGapPoints': True, 'quantityPurchased': 1, 'rewardsGroup': 'DORITOS SPICY SWEET CHILI SINGLE SERVE', 'rewardsProductPartnerId': '5332f5fbe4b03c9a25efd0ba', 'userFlaggedBarcode': '028400642255', 'userFlaggedDescription': 'DORITOS TORTILLA CHIP SPICY SWEET CHILI REDUCED FAT BAG 1 OZ', 'userFlaggedNewItem': True, 'userFlaggedPrice': '10.00', 'userFlaggedQuantity': 1}]   \n",
       "2  [{'needsFetchReview': False, 'partnerItemId': '1', 'preventTargetGapPoints': True, 'userFlaggedBarcode': '4011', 'userFlaggedNewItem': True, 'userFlaggedPrice': '26.00', 'userFlaggedQuantity': 3}]                                                                                                                                                                                                                                                                                                                                                                                                                                                                                                                                                                                                                                                                                                     \n",
       "\n",
       "  rewardsReceiptStatus  totalSpent                    userId  \n",
       "0  FINISHED             26.0        5ff1e1eacfcf6c399c274ae6  \n",
       "1  FINISHED             11.0        5ff1e194b6a9d73a3a9f1052  \n",
       "2  REJECTED             10.0        5ff1e1f1cfcf6c399c274b0b  "
      ]
     },
     "execution_count": 542,
     "metadata": {},
     "output_type": "execute_result"
    }
   ],
   "source": [
    "receipts = pd.read_json('receipts.json',lines=True)\n",
    "receipts.info()\n",
    "receipts.head(3)\n",
    "#using info(), head() to understand data format,  "
   ]
  },
  {
   "cell_type": "markdown",
   "metadata": {},
   "source": [
    "#### After understanding the given nested receipt data, I created a general date conversion function, since date provided is in utc format. Assuming fetch rewards servers use UTC format for date. "
   ]
  },
  {
   "cell_type": "code",
   "execution_count": 543,
   "metadata": {},
   "outputs": [],
   "source": [
    "def date_converter(x):\n",
    "    '''\n",
    "    Date provided is in UTC Format and we use this function to convert it to understandable format\n",
    "    \n",
    "    INPUTS\n",
    "        x : Date string in UTC Format\n",
    "    \n",
    "    OUTPUTS\n",
    "        y : Return Date in datetime format\n",
    "    \n",
    "    '''\n",
    "    \n",
    "    try:\n",
    "        return(datetime.utcfromtimestamp(int(x['$date'])/1000).strftime('%Y-%m-%d %H:%M:%S'))\n",
    "    except TypeError:\n",
    "        return(None)"
   ]
  },
  {
   "cell_type": "markdown",
   "metadata": {},
   "source": [
    "#### In the following code I am extracting values (JSON key-value format) from nested dictionaries of receipts data. I analyzed receipts data online (JSON data Viewer) to get Keys of the below nested columns. example receipts 'id' has 'oid' as nested Key and we are only interested in the value of this Key, i.e. '5ff1e1eb0a720f0523000575'. Similarly, processed the remaining date colums for its values and then converted UTC dates using above functions."
   ]
  },
  {
   "cell_type": "code",
   "execution_count": 544,
   "metadata": {},
   "outputs": [],
   "source": [
    "receipts['_id'] = receipts['_id'].apply(lambda x: x['$oid'])\n",
    "receipts['createDate'] = receipts['createDate'].apply(lambda x: date_converter(x))\n",
    "receipts['dateScanned'] = receipts['dateScanned'].apply(lambda x: date_converter(x))\n",
    "receipts['finishedDate'] = receipts['finishedDate'].apply(lambda x: date_converter(x))\n",
    "receipts['modifyDate'] = receipts['modifyDate'].apply(lambda x: date_converter(x))\n",
    "receipts['pointsAwardedDate'] = receipts['pointsAwardedDate'].apply(lambda x: date_converter(x))\n",
    "receipts['purchaseDate'] = receipts['purchaseDate'].apply(lambda x: date_converter(x))"
   ]
  },
  {
   "cell_type": "code",
   "execution_count": 545,
   "metadata": {
    "scrolled": true
   },
   "outputs": [
    {
     "data": {
      "text/html": [
       "<div>\n",
       "<style scoped>\n",
       "    .dataframe tbody tr th:only-of-type {\n",
       "        vertical-align: middle;\n",
       "    }\n",
       "\n",
       "    .dataframe tbody tr th {\n",
       "        vertical-align: top;\n",
       "    }\n",
       "\n",
       "    .dataframe thead th {\n",
       "        text-align: right;\n",
       "    }\n",
       "</style>\n",
       "<table border=\"1\" class=\"dataframe\">\n",
       "  <thead>\n",
       "    <tr style=\"text-align: right;\">\n",
       "      <th></th>\n",
       "      <th>_id</th>\n",
       "      <th>bonusPointsEarned</th>\n",
       "      <th>bonusPointsEarnedReason</th>\n",
       "      <th>createDate</th>\n",
       "      <th>dateScanned</th>\n",
       "      <th>finishedDate</th>\n",
       "      <th>modifyDate</th>\n",
       "      <th>pointsAwardedDate</th>\n",
       "      <th>pointsEarned</th>\n",
       "      <th>purchaseDate</th>\n",
       "      <th>purchasedItemCount</th>\n",
       "      <th>rewardsReceiptItemList</th>\n",
       "      <th>rewardsReceiptStatus</th>\n",
       "      <th>totalSpent</th>\n",
       "      <th>userId</th>\n",
       "    </tr>\n",
       "  </thead>\n",
       "  <tbody>\n",
       "    <tr>\n",
       "      <th>0</th>\n",
       "      <td>5ff1e1eb0a720f0523000575</td>\n",
       "      <td>500.0</td>\n",
       "      <td>Receipt number 2 completed, bonus point schedule DEFAULT (5cefdcacf3693e0b50e83a36)</td>\n",
       "      <td>2021-01-03 15:25:31</td>\n",
       "      <td>2021-01-03 15:25:31</td>\n",
       "      <td>2021-01-03 15:25:31</td>\n",
       "      <td>2021-01-03 15:25:36</td>\n",
       "      <td>2021-01-03 15:25:31</td>\n",
       "      <td>500.0</td>\n",
       "      <td>2021-01-03 00:00:00</td>\n",
       "      <td>5.0</td>\n",
       "      <td>[{'barcode': '4011', 'description': 'ITEM NOT FOUND', 'finalPrice': '26.00', 'itemPrice': '26.00', 'needsFetchReview': False, 'partnerItemId': '1', 'preventTargetGapPoints': True, 'quantityPurchased': 5, 'userFlaggedBarcode': '4011', 'userFlaggedNewItem': True, 'userFlaggedPrice': '26.00', 'userFlaggedQuantity': 5}]</td>\n",
       "      <td>FINISHED</td>\n",
       "      <td>26.0</td>\n",
       "      <td>5ff1e1eacfcf6c399c274ae6</td>\n",
       "    </tr>\n",
       "    <tr>\n",
       "      <th>1</th>\n",
       "      <td>5ff1e1bb0a720f052300056b</td>\n",
       "      <td>150.0</td>\n",
       "      <td>Receipt number 5 completed, bonus point schedule DEFAULT (5cefdcacf3693e0b50e83a36)</td>\n",
       "      <td>2021-01-03 15:24:43</td>\n",
       "      <td>2021-01-03 15:24:43</td>\n",
       "      <td>2021-01-03 15:24:43</td>\n",
       "      <td>2021-01-03 15:24:48</td>\n",
       "      <td>2021-01-03 15:24:43</td>\n",
       "      <td>150.0</td>\n",
       "      <td>2021-01-02 15:24:43</td>\n",
       "      <td>2.0</td>\n",
       "      <td>[{'barcode': '4011', 'description': 'ITEM NOT FOUND', 'finalPrice': '1', 'itemPrice': '1', 'partnerItemId': '1', 'quantityPurchased': 1}, {'barcode': '028400642255', 'description': 'DORITOS TORTILLA CHIP SPICY SWEET CHILI REDUCED FAT BAG 1 OZ', 'finalPrice': '10.00', 'itemPrice': '10.00', 'needsFetchReview': True, 'needsFetchReviewReason': 'USER_FLAGGED', 'partnerItemId': '2', 'pointsNotAwardedReason': 'Action not allowed for user and CPG', 'pointsPayerId': '5332f5fbe4b03c9a25efd0ba', 'preventTargetGapPoints': True, 'quantityPurchased': 1, 'rewardsGroup': 'DORITOS SPICY SWEET CHILI SINGLE SERVE', 'rewardsProductPartnerId': '5332f5fbe4b03c9a25efd0ba', 'userFlaggedBarcode': '028400642255', 'userFlaggedDescription': 'DORITOS TORTILLA CHIP SPICY SWEET CHILI REDUCED FAT BAG 1 OZ', 'userFlaggedNewItem': True, 'userFlaggedPrice': '10.00', 'userFlaggedQuantity': 1}]</td>\n",
       "      <td>FINISHED</td>\n",
       "      <td>11.0</td>\n",
       "      <td>5ff1e194b6a9d73a3a9f1052</td>\n",
       "    </tr>\n",
       "  </tbody>\n",
       "</table>\n",
       "</div>"
      ],
      "text/plain": [
       "                        _id  bonusPointsEarned  \\\n",
       "0  5ff1e1eb0a720f0523000575  500.0               \n",
       "1  5ff1e1bb0a720f052300056b  150.0               \n",
       "\n",
       "                                                               bonusPointsEarnedReason  \\\n",
       "0  Receipt number 2 completed, bonus point schedule DEFAULT (5cefdcacf3693e0b50e83a36)   \n",
       "1  Receipt number 5 completed, bonus point schedule DEFAULT (5cefdcacf3693e0b50e83a36)   \n",
       "\n",
       "            createDate          dateScanned         finishedDate  \\\n",
       "0  2021-01-03 15:25:31  2021-01-03 15:25:31  2021-01-03 15:25:31   \n",
       "1  2021-01-03 15:24:43  2021-01-03 15:24:43  2021-01-03 15:24:43   \n",
       "\n",
       "            modifyDate    pointsAwardedDate  pointsEarned  \\\n",
       "0  2021-01-03 15:25:36  2021-01-03 15:25:31  500.0          \n",
       "1  2021-01-03 15:24:48  2021-01-03 15:24:43  150.0          \n",
       "\n",
       "          purchaseDate  purchasedItemCount  \\\n",
       "0  2021-01-03 00:00:00  5.0                  \n",
       "1  2021-01-02 15:24:43  2.0                  \n",
       "\n",
       "                                                                                                                                                                                                                                                                                                                                                                                                                                                                                                                                                                                                                                                                                                                                                                                                                                                                                   rewardsReceiptItemList  \\\n",
       "0  [{'barcode': '4011', 'description': 'ITEM NOT FOUND', 'finalPrice': '26.00', 'itemPrice': '26.00', 'needsFetchReview': False, 'partnerItemId': '1', 'preventTargetGapPoints': True, 'quantityPurchased': 5, 'userFlaggedBarcode': '4011', 'userFlaggedNewItem': True, 'userFlaggedPrice': '26.00', 'userFlaggedQuantity': 5}]                                                                                                                                                                                                                                                                                                                                                                                                                                                                                                                                                                            \n",
       "1  [{'barcode': '4011', 'description': 'ITEM NOT FOUND', 'finalPrice': '1', 'itemPrice': '1', 'partnerItemId': '1', 'quantityPurchased': 1}, {'barcode': '028400642255', 'description': 'DORITOS TORTILLA CHIP SPICY SWEET CHILI REDUCED FAT BAG 1 OZ', 'finalPrice': '10.00', 'itemPrice': '10.00', 'needsFetchReview': True, 'needsFetchReviewReason': 'USER_FLAGGED', 'partnerItemId': '2', 'pointsNotAwardedReason': 'Action not allowed for user and CPG', 'pointsPayerId': '5332f5fbe4b03c9a25efd0ba', 'preventTargetGapPoints': True, 'quantityPurchased': 1, 'rewardsGroup': 'DORITOS SPICY SWEET CHILI SINGLE SERVE', 'rewardsProductPartnerId': '5332f5fbe4b03c9a25efd0ba', 'userFlaggedBarcode': '028400642255', 'userFlaggedDescription': 'DORITOS TORTILLA CHIP SPICY SWEET CHILI REDUCED FAT BAG 1 OZ', 'userFlaggedNewItem': True, 'userFlaggedPrice': '10.00', 'userFlaggedQuantity': 1}]   \n",
       "\n",
       "  rewardsReceiptStatus  totalSpent                    userId  \n",
       "0  FINISHED             26.0        5ff1e1eacfcf6c399c274ae6  \n",
       "1  FINISHED             11.0        5ff1e194b6a9d73a3a9f1052  "
      ]
     },
     "execution_count": 545,
     "metadata": {},
     "output_type": "execute_result"
    }
   ],
   "source": [
    "#head() gives us a view of cleaned and structured data until 'rewardsReceiptItemList' column\n",
    "receipts.head(2)"
   ]
  },
  {
   "cell_type": "code",
   "execution_count": 546,
   "metadata": {},
   "outputs": [],
   "source": [
    "#for loop for extracting rewardsReceiptItemList column out of receipts table\n",
    "l = []\n",
    "for i in range(len(receipts)):\n",
    "    try:\n",
    "        l.append(receipts['rewardsReceiptItemList'].iloc[i][0])\n",
    "    except:\n",
    "        #print(receipts['rewardsReceiptItemList'].iloc[i])\n",
    "        pass\n"
   ]
  },
  {
   "cell_type": "markdown",
   "metadata": {},
   "source": [
    "\n",
    "#### Now its time for 'rewardsReceiptItemList' column cleanup, when I pulled receipts data in the online Json screener, I figured 'rewardsReceiptItemList' column had about 18 columns within it. So I decided to pull the column out of receipts table to get a simplified table for data modeling. I am aware I could have extracted these 18 columns and again merged it back to receipts table, but for a simplified data model I choose to create a new table 'rewards_receipts_item' out of 'rewardsReceiptItemList' column.\n"
   ]
  },
  {
   "cell_type": "code",
   "execution_count": 547,
   "metadata": {},
   "outputs": [
    {
     "data": {
      "text/html": [
       "<div>\n",
       "<style scoped>\n",
       "    .dataframe tbody tr th:only-of-type {\n",
       "        vertical-align: middle;\n",
       "    }\n",
       "\n",
       "    .dataframe tbody tr th {\n",
       "        vertical-align: top;\n",
       "    }\n",
       "\n",
       "    .dataframe thead th {\n",
       "        text-align: right;\n",
       "    }\n",
       "</style>\n",
       "<table border=\"1\" class=\"dataframe\">\n",
       "  <thead>\n",
       "    <tr style=\"text-align: right;\">\n",
       "      <th></th>\n",
       "      <th>barcode</th>\n",
       "      <th>brandCode</th>\n",
       "      <th>competitiveProduct</th>\n",
       "      <th>competitorRewardsGroup</th>\n",
       "      <th>deleted</th>\n",
       "      <th>description</th>\n",
       "      <th>discountedItemPrice</th>\n",
       "      <th>finalPrice</th>\n",
       "      <th>itemNumber</th>\n",
       "      <th>itemPrice</th>\n",
       "      <th>...</th>\n",
       "      <th>rewardsGroup</th>\n",
       "      <th>rewardsProductPartnerId</th>\n",
       "      <th>targetPrice</th>\n",
       "      <th>userFlaggedBarcode</th>\n",
       "      <th>userFlaggedDescription</th>\n",
       "      <th>userFlaggedNewItem</th>\n",
       "      <th>userFlaggedPrice</th>\n",
       "      <th>userFlaggedQuantity</th>\n",
       "      <th>rewardsReceiptStatus</th>\n",
       "      <th>receipts_id</th>\n",
       "    </tr>\n",
       "  </thead>\n",
       "  <tbody>\n",
       "    <tr>\n",
       "      <th>204</th>\n",
       "      <td>4011</td>\n",
       "      <td>NaN</td>\n",
       "      <td>NaN</td>\n",
       "      <td>NaN</td>\n",
       "      <td>NaN</td>\n",
       "      <td>ITEM NOT FOUND</td>\n",
       "      <td>NaN</td>\n",
       "      <td>1</td>\n",
       "      <td>NaN</td>\n",
       "      <td>1</td>\n",
       "      <td>...</td>\n",
       "      <td>NaN</td>\n",
       "      <td>NaN</td>\n",
       "      <td>NaN</td>\n",
       "      <td>NaN</td>\n",
       "      <td>NaN</td>\n",
       "      <td>NaN</td>\n",
       "      <td>NaN</td>\n",
       "      <td>NaN</td>\n",
       "      <td>FINISHED</td>\n",
       "      <td>5ffc8fa10a7214adca00002e</td>\n",
       "    </tr>\n",
       "  </tbody>\n",
       "</table>\n",
       "<p>1 rows × 34 columns</p>\n",
       "</div>"
      ],
      "text/plain": [
       "    barcode brandCode competitiveProduct competitorRewardsGroup deleted  \\\n",
       "204  4011    NaN       NaN                NaN                    NaN      \n",
       "\n",
       "        description discountedItemPrice finalPrice itemNumber itemPrice  ...  \\\n",
       "204  ITEM NOT FOUND  NaN                 1          NaN        1         ...   \n",
       "\n",
       "    rewardsGroup rewardsProductPartnerId targetPrice userFlaggedBarcode  \\\n",
       "204  NaN          NaN                     NaN         NaN                 \n",
       "\n",
       "    userFlaggedDescription  userFlaggedNewItem userFlaggedPrice  \\\n",
       "204  NaN                    NaN                 NaN               \n",
       "\n",
       "    userFlaggedQuantity rewardsReceiptStatus               receipts_id  \n",
       "204 NaN                  FINISHED             5ffc8fa10a7214adca00002e  \n",
       "\n",
       "[1 rows x 34 columns]"
      ]
     },
     "execution_count": 547,
     "metadata": {},
     "output_type": "execute_result"
    }
   ],
   "source": [
    "#From my understanding \"rewardsReceiptStatus\" column better suits 'rewards_receipts_item' table, so added it\n",
    "rewards_receipts_item = pd.DataFrame(l)\n",
    "rewards_receipts_item[\"rewardsReceiptStatus\"] = receipts[\"rewardsReceiptStatus\"]\n",
    "rewards_receipts_item['receipts_id']= receipts[\"_id\"] # copied receipts ID to the new table for joining and as there is 1 to many relationship between the table\n",
    "rewards_receipts_item.sample()"
   ]
  },
  {
   "cell_type": "code",
   "execution_count": 548,
   "metadata": {},
   "outputs": [
    {
     "name": "stderr",
     "output_type": "stream",
     "text": [
      "C:\\Users\\viraj\\Anaconda3\\lib\\site-packages\\pandas\\core\\indexing.py:190: SettingWithCopyWarning: \n",
      "A value is trying to be set on a copy of a slice from a DataFrame\n",
      "\n",
      "See the caveats in the documentation: http://pandas.pydata.org/pandas-docs/stable/indexing.html#indexing-view-versus-copy\n",
      "  self._setitem_with_indexer(indexer, value)\n"
     ]
    }
   ],
   "source": [
    "# Generating unique identifier for 'rewards_receipts_item' table\n",
    "import numpy as np\n",
    "rewards_receipts_item['receipts_item_id'] = np.zeros((len(rewards_receipts_item),1))\n",
    "for i in range(len(rewards_receipts_item)):\n",
    "    rewards_receipts_item['receipts_item_id'].iloc[i]= i+1"
   ]
  },
  {
   "cell_type": "code",
   "execution_count": 549,
   "metadata": {
    "scrolled": true
   },
   "outputs": [
    {
     "data": {
      "text/html": [
       "<div>\n",
       "<style scoped>\n",
       "    .dataframe tbody tr th:only-of-type {\n",
       "        vertical-align: middle;\n",
       "    }\n",
       "\n",
       "    .dataframe tbody tr th {\n",
       "        vertical-align: top;\n",
       "    }\n",
       "\n",
       "    .dataframe thead th {\n",
       "        text-align: right;\n",
       "    }\n",
       "</style>\n",
       "<table border=\"1\" class=\"dataframe\">\n",
       "  <thead>\n",
       "    <tr style=\"text-align: right;\">\n",
       "      <th></th>\n",
       "      <th>rewards_id</th>\n",
       "      <th>receipts_id</th>\n",
       "      <th>rewardsReceiptStatus</th>\n",
       "      <th>barcode</th>\n",
       "      <th>brandCode</th>\n",
       "      <th>competitiveProduct</th>\n",
       "      <th>competitorRewardsGroup</th>\n",
       "      <th>deleted</th>\n",
       "      <th>description</th>\n",
       "      <th>discountedItemPrice</th>\n",
       "      <th>...</th>\n",
       "      <th>priceAfterCoupon</th>\n",
       "      <th>quantityPurchased</th>\n",
       "      <th>rewardsGroup</th>\n",
       "      <th>rewardsProductPartnerId</th>\n",
       "      <th>targetPrice</th>\n",
       "      <th>userFlaggedBarcode</th>\n",
       "      <th>userFlaggedDescription</th>\n",
       "      <th>userFlaggedNewItem</th>\n",
       "      <th>userFlaggedPrice</th>\n",
       "      <th>userFlaggedQuantity</th>\n",
       "    </tr>\n",
       "  </thead>\n",
       "  <tbody>\n",
       "    <tr>\n",
       "      <th>0</th>\n",
       "      <td>1.0</td>\n",
       "      <td>5ff1e1eb0a720f0523000575</td>\n",
       "      <td>FINISHED</td>\n",
       "      <td>4011</td>\n",
       "      <td>NaN</td>\n",
       "      <td>NaN</td>\n",
       "      <td>NaN</td>\n",
       "      <td>NaN</td>\n",
       "      <td>ITEM NOT FOUND</td>\n",
       "      <td>NaN</td>\n",
       "      <td>...</td>\n",
       "      <td>NaN</td>\n",
       "      <td>5.0</td>\n",
       "      <td>NaN</td>\n",
       "      <td>NaN</td>\n",
       "      <td>NaN</td>\n",
       "      <td>4011</td>\n",
       "      <td>NaN</td>\n",
       "      <td>True</td>\n",
       "      <td>26.00</td>\n",
       "      <td>5.0</td>\n",
       "    </tr>\n",
       "    <tr>\n",
       "      <th>1</th>\n",
       "      <td>2.0</td>\n",
       "      <td>5ff1e1bb0a720f052300056b</td>\n",
       "      <td>FINISHED</td>\n",
       "      <td>4011</td>\n",
       "      <td>NaN</td>\n",
       "      <td>NaN</td>\n",
       "      <td>NaN</td>\n",
       "      <td>NaN</td>\n",
       "      <td>ITEM NOT FOUND</td>\n",
       "      <td>NaN</td>\n",
       "      <td>...</td>\n",
       "      <td>NaN</td>\n",
       "      <td>1.0</td>\n",
       "      <td>NaN</td>\n",
       "      <td>NaN</td>\n",
       "      <td>NaN</td>\n",
       "      <td>NaN</td>\n",
       "      <td>NaN</td>\n",
       "      <td>NaN</td>\n",
       "      <td>NaN</td>\n",
       "      <td>NaN</td>\n",
       "    </tr>\n",
       "    <tr>\n",
       "      <th>2</th>\n",
       "      <td>3.0</td>\n",
       "      <td>5ff1e1f10a720f052300057a</td>\n",
       "      <td>REJECTED</td>\n",
       "      <td>NaN</td>\n",
       "      <td>NaN</td>\n",
       "      <td>NaN</td>\n",
       "      <td>NaN</td>\n",
       "      <td>NaN</td>\n",
       "      <td>NaN</td>\n",
       "      <td>NaN</td>\n",
       "      <td>...</td>\n",
       "      <td>NaN</td>\n",
       "      <td>NaN</td>\n",
       "      <td>NaN</td>\n",
       "      <td>NaN</td>\n",
       "      <td>NaN</td>\n",
       "      <td>4011</td>\n",
       "      <td>NaN</td>\n",
       "      <td>True</td>\n",
       "      <td>26.00</td>\n",
       "      <td>3.0</td>\n",
       "    </tr>\n",
       "    <tr>\n",
       "      <th>3</th>\n",
       "      <td>4.0</td>\n",
       "      <td>5ff1e1ee0a7214ada100056f</td>\n",
       "      <td>FINISHED</td>\n",
       "      <td>4011</td>\n",
       "      <td>NaN</td>\n",
       "      <td>NaN</td>\n",
       "      <td>NaN</td>\n",
       "      <td>NaN</td>\n",
       "      <td>ITEM NOT FOUND</td>\n",
       "      <td>NaN</td>\n",
       "      <td>...</td>\n",
       "      <td>NaN</td>\n",
       "      <td>4.0</td>\n",
       "      <td>NaN</td>\n",
       "      <td>NaN</td>\n",
       "      <td>NaN</td>\n",
       "      <td>4011</td>\n",
       "      <td>NaN</td>\n",
       "      <td>True</td>\n",
       "      <td>28.00</td>\n",
       "      <td>4.0</td>\n",
       "    </tr>\n",
       "    <tr>\n",
       "      <th>4</th>\n",
       "      <td>5.0</td>\n",
       "      <td>5ff1e1d20a7214ada1000561</td>\n",
       "      <td>FINISHED</td>\n",
       "      <td>4011</td>\n",
       "      <td>NaN</td>\n",
       "      <td>NaN</td>\n",
       "      <td>NaN</td>\n",
       "      <td>NaN</td>\n",
       "      <td>ITEM NOT FOUND</td>\n",
       "      <td>NaN</td>\n",
       "      <td>...</td>\n",
       "      <td>NaN</td>\n",
       "      <td>1.0</td>\n",
       "      <td>NaN</td>\n",
       "      <td>NaN</td>\n",
       "      <td>NaN</td>\n",
       "      <td>NaN</td>\n",
       "      <td>NaN</td>\n",
       "      <td>NaN</td>\n",
       "      <td>NaN</td>\n",
       "      <td>NaN</td>\n",
       "    </tr>\n",
       "  </tbody>\n",
       "</table>\n",
       "<p>5 rows × 35 columns</p>\n",
       "</div>"
      ],
      "text/plain": [
       "   rewards_id               receipts_id rewardsReceiptStatus barcode  \\\n",
       "0  1.0         5ff1e1eb0a720f0523000575  FINISHED             4011     \n",
       "1  2.0         5ff1e1bb0a720f052300056b  FINISHED             4011     \n",
       "2  3.0         5ff1e1f10a720f052300057a  REJECTED             NaN      \n",
       "3  4.0         5ff1e1ee0a7214ada100056f  FINISHED             4011     \n",
       "4  5.0         5ff1e1d20a7214ada1000561  FINISHED             4011     \n",
       "\n",
       "  brandCode competitiveProduct competitorRewardsGroup deleted     description  \\\n",
       "0  NaN       NaN                NaN                    NaN     ITEM NOT FOUND   \n",
       "1  NaN       NaN                NaN                    NaN     ITEM NOT FOUND   \n",
       "2  NaN       NaN                NaN                    NaN     NaN              \n",
       "3  NaN       NaN                NaN                    NaN     ITEM NOT FOUND   \n",
       "4  NaN       NaN                NaN                    NaN     ITEM NOT FOUND   \n",
       "\n",
       "  discountedItemPrice  ... priceAfterCoupon quantityPurchased rewardsGroup  \\\n",
       "0  NaN                 ...  NaN              5.0               NaN           \n",
       "1  NaN                 ...  NaN              1.0               NaN           \n",
       "2  NaN                 ...  NaN             NaN                NaN           \n",
       "3  NaN                 ...  NaN              4.0               NaN           \n",
       "4  NaN                 ...  NaN              1.0               NaN           \n",
       "\n",
       "  rewardsProductPartnerId targetPrice userFlaggedBarcode  \\\n",
       "0  NaN                     NaN         4011                \n",
       "1  NaN                     NaN         NaN                 \n",
       "2  NaN                     NaN         4011                \n",
       "3  NaN                     NaN         4011                \n",
       "4  NaN                     NaN         NaN                 \n",
       "\n",
       "  userFlaggedDescription userFlaggedNewItem  userFlaggedPrice  \\\n",
       "0  NaN                    True               26.00              \n",
       "1  NaN                    NaN                NaN                \n",
       "2  NaN                    True               26.00              \n",
       "3  NaN                    True               28.00              \n",
       "4  NaN                    NaN                NaN                \n",
       "\n",
       "  userFlaggedQuantity  \n",
       "0  5.0                 \n",
       "1 NaN                  \n",
       "2  3.0                 \n",
       "3  4.0                 \n",
       "4 NaN                  \n",
       "\n",
       "[5 rows x 35 columns]"
      ]
     },
     "execution_count": 549,
     "metadata": {},
     "output_type": "execute_result"
    }
   ],
   "source": [
    "# Just moving ID's to the front of the 'rewards_receipts_item' table\n",
    "col_val = ['rewards_id','receipts_id','rewardsReceiptStatus',\n",
    "           'barcode', 'brandCode', 'competitiveProduct', 'competitorRewardsGroup',\n",
    "       'deleted', 'description', 'discountedItemPrice', 'finalPrice',\n",
    "       'itemNumber', 'itemPrice', 'metabriteCampaignId', 'needsFetchReview',\n",
    "       'needsFetchReviewReason', 'originalMetaBriteBarcode',\n",
    "       'originalMetaBriteDescription', 'originalMetaBriteQuantityPurchased',\n",
    "       'originalReceiptItemText', 'partnerItemId', 'pointsEarned',\n",
    "       'pointsNotAwardedReason', 'pointsPayerId', 'preventTargetGapPoints',\n",
    "       'priceAfterCoupon', 'quantityPurchased', 'rewardsGroup',\n",
    "       'rewardsProductPartnerId', 'targetPrice', 'userFlaggedBarcode',\n",
    "       'userFlaggedDescription', 'userFlaggedNewItem', 'userFlaggedPrice',\n",
    "       'userFlaggedQuantity']\n",
    "rewards_receipts_item = rewards_receipts[col_val]\n",
    "rewards_receipts_item.head()"
   ]
  },
  {
   "cell_type": "code",
   "execution_count": 550,
   "metadata": {},
   "outputs": [],
   "source": [
    "# Now we have a new table 'rewards_receipts_item' for 'rewardsReceiptItemList', we can get rid of the nested column\n",
    "receipts=receipts.drop(['rewardsReceiptItemList'], axis=1)"
   ]
  },
  {
   "cell_type": "code",
   "execution_count": 551,
   "metadata": {},
   "outputs": [
    {
     "name": "stdout",
     "output_type": "stream",
     "text": [
      "<class 'pandas.core.frame.DataFrame'>\n",
      "RangeIndex: 1119 entries, 0 to 1118\n",
      "Data columns (total 14 columns):\n",
      "_id                        1119 non-null object\n",
      "bonusPointsEarned          544 non-null float64\n",
      "bonusPointsEarnedReason    544 non-null object\n",
      "createDate                 1119 non-null object\n",
      "dateScanned                1119 non-null object\n",
      "finishedDate               568 non-null object\n",
      "modifyDate                 1119 non-null object\n",
      "pointsAwardedDate          537 non-null object\n",
      "pointsEarned               609 non-null float64\n",
      "purchaseDate               671 non-null object\n",
      "purchasedItemCount         635 non-null float64\n",
      "rewardsReceiptStatus       1119 non-null object\n",
      "totalSpent                 684 non-null float64\n",
      "userId                     1119 non-null object\n",
      "dtypes: float64(4), object(10)\n",
      "memory usage: 122.5+ KB\n"
     ]
    }
   ],
   "source": [
    "receipts.info()"
   ]
  },
  {
   "cell_type": "code",
   "execution_count": 552,
   "metadata": {},
   "outputs": [],
   "source": [
    "# Converting the dataframe to .csv files, as I planned to load them into SQL Server for faster querings and Modeling\n",
    "receipts.to_csv('receiptstosql.csv')"
   ]
  },
  {
   "cell_type": "code",
   "execution_count": 553,
   "metadata": {},
   "outputs": [],
   "source": [
    "# Converting the dataframe to .csv files, as I planned to load them into SQL Server for faster querings and Modeling\n",
    "rewards_receipts_item.to_csv('rewards_receiptstosql.csv')"
   ]
  },
  {
   "cell_type": "markdown",
   "metadata": {},
   "source": [
    "## Users Table Processing (Following above steps for cleaning)"
   ]
  },
  {
   "cell_type": "code",
   "execution_count": 554,
   "metadata": {},
   "outputs": [
    {
     "name": "stdout",
     "output_type": "stream",
     "text": [
      "<class 'pandas.core.frame.DataFrame'>\n",
      "RangeIndex: 495 entries, 0 to 494\n",
      "Data columns (total 7 columns):\n",
      "_id             495 non-null object\n",
      "active          495 non-null bool\n",
      "createdDate     495 non-null object\n",
      "lastLogin       433 non-null object\n",
      "role            495 non-null object\n",
      "signUpSource    447 non-null object\n",
      "state           439 non-null object\n",
      "dtypes: bool(1), object(6)\n",
      "memory usage: 23.8+ KB\n"
     ]
    },
    {
     "data": {
      "text/html": [
       "<div>\n",
       "<style scoped>\n",
       "    .dataframe tbody tr th:only-of-type {\n",
       "        vertical-align: middle;\n",
       "    }\n",
       "\n",
       "    .dataframe tbody tr th {\n",
       "        vertical-align: top;\n",
       "    }\n",
       "\n",
       "    .dataframe thead th {\n",
       "        text-align: right;\n",
       "    }\n",
       "</style>\n",
       "<table border=\"1\" class=\"dataframe\">\n",
       "  <thead>\n",
       "    <tr style=\"text-align: right;\">\n",
       "      <th></th>\n",
       "      <th>_id</th>\n",
       "      <th>active</th>\n",
       "      <th>createdDate</th>\n",
       "      <th>lastLogin</th>\n",
       "      <th>role</th>\n",
       "      <th>signUpSource</th>\n",
       "      <th>state</th>\n",
       "    </tr>\n",
       "  </thead>\n",
       "  <tbody>\n",
       "    <tr>\n",
       "      <th>0</th>\n",
       "      <td>{'$oid': '5ff1e194b6a9d73a3a9f1052'}</td>\n",
       "      <td>True</td>\n",
       "      <td>{'$date': 1609687444800}</td>\n",
       "      <td>{'$date': 1609687537858}</td>\n",
       "      <td>consumer</td>\n",
       "      <td>Email</td>\n",
       "      <td>WI</td>\n",
       "    </tr>\n",
       "    <tr>\n",
       "      <th>1</th>\n",
       "      <td>{'$oid': '5ff1e194b6a9d73a3a9f1052'}</td>\n",
       "      <td>True</td>\n",
       "      <td>{'$date': 1609687444800}</td>\n",
       "      <td>{'$date': 1609687537858}</td>\n",
       "      <td>consumer</td>\n",
       "      <td>Email</td>\n",
       "      <td>WI</td>\n",
       "    </tr>\n",
       "    <tr>\n",
       "      <th>2</th>\n",
       "      <td>{'$oid': '5ff1e194b6a9d73a3a9f1052'}</td>\n",
       "      <td>True</td>\n",
       "      <td>{'$date': 1609687444800}</td>\n",
       "      <td>{'$date': 1609687537858}</td>\n",
       "      <td>consumer</td>\n",
       "      <td>Email</td>\n",
       "      <td>WI</td>\n",
       "    </tr>\n",
       "  </tbody>\n",
       "</table>\n",
       "</div>"
      ],
      "text/plain": [
       "                                    _id  active               createdDate  \\\n",
       "0  {'$oid': '5ff1e194b6a9d73a3a9f1052'}  True    {'$date': 1609687444800}   \n",
       "1  {'$oid': '5ff1e194b6a9d73a3a9f1052'}  True    {'$date': 1609687444800}   \n",
       "2  {'$oid': '5ff1e194b6a9d73a3a9f1052'}  True    {'$date': 1609687444800}   \n",
       "\n",
       "                  lastLogin      role signUpSource state  \n",
       "0  {'$date': 1609687537858}  consumer  Email        WI    \n",
       "1  {'$date': 1609687537858}  consumer  Email        WI    \n",
       "2  {'$date': 1609687537858}  consumer  Email        WI    "
      ]
     },
     "execution_count": 554,
     "metadata": {},
     "output_type": "execute_result"
    }
   ],
   "source": [
    "#users processing\n",
    "#Similarly loading users data using pandas and understand it using info() & head()\n",
    "users = pd.read_json('users.json',lines=True)\n",
    "users.info()\n",
    "users.head(3)"
   ]
  },
  {
   "cell_type": "code",
   "execution_count": 555,
   "metadata": {},
   "outputs": [
    {
     "data": {
      "text/plain": [
       "{'$date'}"
      ]
     },
     "execution_count": 555,
     "metadata": {},
     "output_type": "execute_result"
    }
   ],
   "source": [
    "# Since not all lastlogin have date, we will have to drop 'NA'\n",
    "set().union(*(d.keys() for d in users.dropna(subset=['lastLogin'])['lastLogin']))"
   ]
  },
  {
   "cell_type": "code",
   "execution_count": 556,
   "metadata": {},
   "outputs": [],
   "source": [
    "users['_id'] = users['_id'].apply(lambda x: x['$oid'])"
   ]
  },
  {
   "cell_type": "code",
   "execution_count": 557,
   "metadata": {},
   "outputs": [],
   "source": [
    "users['createdDate'] = users['createdDate'].apply(lambda x: date_converter(x))\n",
    "users['lastLogin'] = users['lastLogin'].apply(lambda x: date_converter(x))"
   ]
  },
  {
   "cell_type": "code",
   "execution_count": 558,
   "metadata": {},
   "outputs": [
    {
     "data": {
      "text/html": [
       "<div>\n",
       "<style scoped>\n",
       "    .dataframe tbody tr th:only-of-type {\n",
       "        vertical-align: middle;\n",
       "    }\n",
       "\n",
       "    .dataframe tbody tr th {\n",
       "        vertical-align: top;\n",
       "    }\n",
       "\n",
       "    .dataframe thead th {\n",
       "        text-align: right;\n",
       "    }\n",
       "</style>\n",
       "<table border=\"1\" class=\"dataframe\">\n",
       "  <thead>\n",
       "    <tr style=\"text-align: right;\">\n",
       "      <th></th>\n",
       "      <th>_id</th>\n",
       "      <th>active</th>\n",
       "      <th>createdDate</th>\n",
       "      <th>lastLogin</th>\n",
       "      <th>role</th>\n",
       "      <th>signUpSource</th>\n",
       "      <th>state</th>\n",
       "    </tr>\n",
       "  </thead>\n",
       "  <tbody>\n",
       "    <tr>\n",
       "      <th>0</th>\n",
       "      <td>5ff1e194b6a9d73a3a9f1052</td>\n",
       "      <td>True</td>\n",
       "      <td>2021-01-03 15:24:04</td>\n",
       "      <td>2021-01-03 15:25:37</td>\n",
       "      <td>consumer</td>\n",
       "      <td>Email</td>\n",
       "      <td>WI</td>\n",
       "    </tr>\n",
       "    <tr>\n",
       "      <th>1</th>\n",
       "      <td>5ff1e194b6a9d73a3a9f1052</td>\n",
       "      <td>True</td>\n",
       "      <td>2021-01-03 15:24:04</td>\n",
       "      <td>2021-01-03 15:25:37</td>\n",
       "      <td>consumer</td>\n",
       "      <td>Email</td>\n",
       "      <td>WI</td>\n",
       "    </tr>\n",
       "    <tr>\n",
       "      <th>2</th>\n",
       "      <td>5ff1e194b6a9d73a3a9f1052</td>\n",
       "      <td>True</td>\n",
       "      <td>2021-01-03 15:24:04</td>\n",
       "      <td>2021-01-03 15:25:37</td>\n",
       "      <td>consumer</td>\n",
       "      <td>Email</td>\n",
       "      <td>WI</td>\n",
       "    </tr>\n",
       "    <tr>\n",
       "      <th>3</th>\n",
       "      <td>5ff1e1eacfcf6c399c274ae6</td>\n",
       "      <td>True</td>\n",
       "      <td>2021-01-03 15:25:30</td>\n",
       "      <td>2021-01-03 15:25:30</td>\n",
       "      <td>consumer</td>\n",
       "      <td>Email</td>\n",
       "      <td>WI</td>\n",
       "    </tr>\n",
       "    <tr>\n",
       "      <th>4</th>\n",
       "      <td>5ff1e194b6a9d73a3a9f1052</td>\n",
       "      <td>True</td>\n",
       "      <td>2021-01-03 15:24:04</td>\n",
       "      <td>2021-01-03 15:25:37</td>\n",
       "      <td>consumer</td>\n",
       "      <td>Email</td>\n",
       "      <td>WI</td>\n",
       "    </tr>\n",
       "  </tbody>\n",
       "</table>\n",
       "</div>"
      ],
      "text/plain": [
       "                        _id  active          createdDate            lastLogin  \\\n",
       "0  5ff1e194b6a9d73a3a9f1052  True    2021-01-03 15:24:04  2021-01-03 15:25:37   \n",
       "1  5ff1e194b6a9d73a3a9f1052  True    2021-01-03 15:24:04  2021-01-03 15:25:37   \n",
       "2  5ff1e194b6a9d73a3a9f1052  True    2021-01-03 15:24:04  2021-01-03 15:25:37   \n",
       "3  5ff1e1eacfcf6c399c274ae6  True    2021-01-03 15:25:30  2021-01-03 15:25:30   \n",
       "4  5ff1e194b6a9d73a3a9f1052  True    2021-01-03 15:24:04  2021-01-03 15:25:37   \n",
       "\n",
       "       role signUpSource state  \n",
       "0  consumer  Email        WI    \n",
       "1  consumer  Email        WI    \n",
       "2  consumer  Email        WI    \n",
       "3  consumer  Email        WI    \n",
       "4  consumer  Email        WI    "
      ]
     },
     "execution_count": 558,
     "metadata": {},
     "output_type": "execute_result"
    }
   ],
   "source": [
    "users.head()"
   ]
  },
  {
   "cell_type": "code",
   "execution_count": 559,
   "metadata": {},
   "outputs": [],
   "source": [
    "users.to_csv('userstosql.csv')"
   ]
  },
  {
   "cell_type": "markdown",
   "metadata": {},
   "source": [
    "## Brands Table Processing (Following above steps for cleaning)"
   ]
  },
  {
   "cell_type": "code",
   "execution_count": 512,
   "metadata": {
    "collapsed": true
   },
   "outputs": [
    {
     "name": "stdout",
     "output_type": "stream",
     "text": [
      "<class 'pandas.core.frame.DataFrame'>\n",
      "RangeIndex: 1167 entries, 0 to 1166\n",
      "Data columns (total 8 columns):\n",
      "_id             1167 non-null object\n",
      "barcode         1167 non-null int64\n",
      "brandCode       933 non-null object\n",
      "category        1012 non-null object\n",
      "categoryCode    517 non-null object\n",
      "cpg             1167 non-null object\n",
      "name            1167 non-null object\n",
      "topBrand        555 non-null float64\n",
      "dtypes: float64(1), int64(1), object(6)\n",
      "memory usage: 73.0+ KB\n"
     ]
    },
    {
     "data": {
      "text/html": [
       "<div>\n",
       "<style scoped>\n",
       "    .dataframe tbody tr th:only-of-type {\n",
       "        vertical-align: middle;\n",
       "    }\n",
       "\n",
       "    .dataframe tbody tr th {\n",
       "        vertical-align: top;\n",
       "    }\n",
       "\n",
       "    .dataframe thead th {\n",
       "        text-align: right;\n",
       "    }\n",
       "</style>\n",
       "<table border=\"1\" class=\"dataframe\">\n",
       "  <thead>\n",
       "    <tr style=\"text-align: right;\">\n",
       "      <th></th>\n",
       "      <th>_id</th>\n",
       "      <th>barcode</th>\n",
       "      <th>brandCode</th>\n",
       "      <th>category</th>\n",
       "      <th>categoryCode</th>\n",
       "      <th>cpg</th>\n",
       "      <th>name</th>\n",
       "      <th>topBrand</th>\n",
       "    </tr>\n",
       "  </thead>\n",
       "  <tbody>\n",
       "    <tr>\n",
       "      <th>0</th>\n",
       "      <td>{'$oid': '601ac115be37ce2ead437551'}</td>\n",
       "      <td>511111019862</td>\n",
       "      <td>NaN</td>\n",
       "      <td>Baking</td>\n",
       "      <td>BAKING</td>\n",
       "      <td>{'$id': {'$oid': '601ac114be37ce2ead437550'}, '$ref': 'Cogs'}</td>\n",
       "      <td>test brand @1612366101024</td>\n",
       "      <td>0.0</td>\n",
       "    </tr>\n",
       "    <tr>\n",
       "      <th>1</th>\n",
       "      <td>{'$oid': '601c5460be37ce2ead43755f'}</td>\n",
       "      <td>511111519928</td>\n",
       "      <td>STARBUCKS</td>\n",
       "      <td>Beverages</td>\n",
       "      <td>BEVERAGES</td>\n",
       "      <td>{'$id': {'$oid': '5332f5fbe4b03c9a25efd0ba'}, '$ref': 'Cogs'}</td>\n",
       "      <td>Starbucks</td>\n",
       "      <td>0.0</td>\n",
       "    </tr>\n",
       "    <tr>\n",
       "      <th>2</th>\n",
       "      <td>{'$oid': '601ac142be37ce2ead43755d'}</td>\n",
       "      <td>511111819905</td>\n",
       "      <td>TEST BRANDCODE @1612366146176</td>\n",
       "      <td>Baking</td>\n",
       "      <td>BAKING</td>\n",
       "      <td>{'$id': {'$oid': '601ac142be37ce2ead437559'}, '$ref': 'Cogs'}</td>\n",
       "      <td>test brand @1612366146176</td>\n",
       "      <td>0.0</td>\n",
       "    </tr>\n",
       "  </tbody>\n",
       "</table>\n",
       "</div>"
      ],
      "text/plain": [
       "                                    _id       barcode  \\\n",
       "0  {'$oid': '601ac115be37ce2ead437551'}  511111019862   \n",
       "1  {'$oid': '601c5460be37ce2ead43755f'}  511111519928   \n",
       "2  {'$oid': '601ac142be37ce2ead43755d'}  511111819905   \n",
       "\n",
       "                       brandCode   category categoryCode  \\\n",
       "0  NaN                            Baking     BAKING        \n",
       "1  STARBUCKS                      Beverages  BEVERAGES     \n",
       "2  TEST BRANDCODE @1612366146176  Baking     BAKING        \n",
       "\n",
       "                                                             cpg  \\\n",
       "0  {'$id': {'$oid': '601ac114be37ce2ead437550'}, '$ref': 'Cogs'}   \n",
       "1  {'$id': {'$oid': '5332f5fbe4b03c9a25efd0ba'}, '$ref': 'Cogs'}   \n",
       "2  {'$id': {'$oid': '601ac142be37ce2ead437559'}, '$ref': 'Cogs'}   \n",
       "\n",
       "                        name  topBrand  \n",
       "0  test brand @1612366101024  0.0       \n",
       "1  Starbucks                  0.0       \n",
       "2  test brand @1612366146176  0.0       "
      ]
     },
     "execution_count": 512,
     "metadata": {},
     "output_type": "execute_result"
    }
   ],
   "source": [
    "brands = pd.read_json('brands.json',lines=True)\n",
    "brands.info()\n",
    "brands.head(3)"
   ]
  },
  {
   "cell_type": "code",
   "execution_count": 513,
   "metadata": {},
   "outputs": [],
   "source": [
    "brands['_id'] = brands['_id'].apply(lambda x: x['$oid'])\n",
    "brands['cpg_id']=brands['cpg'].apply(lambda x: x['$id']['$oid'])\n",
    "brands['cpg_ref']=brands['cpg'].apply(lambda x: x['$ref'])"
   ]
  },
  {
   "cell_type": "code",
   "execution_count": 434,
   "metadata": {
    "collapsed": true
   },
   "outputs": [
    {
     "data": {
      "text/html": [
       "<div>\n",
       "<style scoped>\n",
       "    .dataframe tbody tr th:only-of-type {\n",
       "        vertical-align: middle;\n",
       "    }\n",
       "\n",
       "    .dataframe tbody tr th {\n",
       "        vertical-align: top;\n",
       "    }\n",
       "\n",
       "    .dataframe thead th {\n",
       "        text-align: right;\n",
       "    }\n",
       "</style>\n",
       "<table border=\"1\" class=\"dataframe\">\n",
       "  <thead>\n",
       "    <tr style=\"text-align: right;\">\n",
       "      <th></th>\n",
       "      <th>_id</th>\n",
       "      <th>barcode</th>\n",
       "      <th>brandCode</th>\n",
       "      <th>category</th>\n",
       "      <th>categoryCode</th>\n",
       "      <th>cpg</th>\n",
       "      <th>name</th>\n",
       "      <th>topBrand</th>\n",
       "      <th>cpg_id</th>\n",
       "      <th>cpg_ref</th>\n",
       "    </tr>\n",
       "  </thead>\n",
       "  <tbody>\n",
       "    <tr>\n",
       "      <th>0</th>\n",
       "      <td>601ac115be37ce2ead437551</td>\n",
       "      <td>511111019862</td>\n",
       "      <td>NaN</td>\n",
       "      <td>Baking</td>\n",
       "      <td>BAKING</td>\n",
       "      <td>{'$id': {'$oid': '601ac114be37ce2ead437550'}, '$ref': 'Cogs'}</td>\n",
       "      <td>test brand @1612366101024</td>\n",
       "      <td>0.0</td>\n",
       "      <td>601ac114be37ce2ead437550</td>\n",
       "      <td>Cogs</td>\n",
       "    </tr>\n",
       "    <tr>\n",
       "      <th>1</th>\n",
       "      <td>601c5460be37ce2ead43755f</td>\n",
       "      <td>511111519928</td>\n",
       "      <td>STARBUCKS</td>\n",
       "      <td>Beverages</td>\n",
       "      <td>BEVERAGES</td>\n",
       "      <td>{'$id': {'$oid': '5332f5fbe4b03c9a25efd0ba'}, '$ref': 'Cogs'}</td>\n",
       "      <td>Starbucks</td>\n",
       "      <td>0.0</td>\n",
       "      <td>5332f5fbe4b03c9a25efd0ba</td>\n",
       "      <td>Cogs</td>\n",
       "    </tr>\n",
       "    <tr>\n",
       "      <th>2</th>\n",
       "      <td>601ac142be37ce2ead43755d</td>\n",
       "      <td>511111819905</td>\n",
       "      <td>TEST BRANDCODE @1612366146176</td>\n",
       "      <td>Baking</td>\n",
       "      <td>BAKING</td>\n",
       "      <td>{'$id': {'$oid': '601ac142be37ce2ead437559'}, '$ref': 'Cogs'}</td>\n",
       "      <td>test brand @1612366146176</td>\n",
       "      <td>0.0</td>\n",
       "      <td>601ac142be37ce2ead437559</td>\n",
       "      <td>Cogs</td>\n",
       "    </tr>\n",
       "    <tr>\n",
       "      <th>3</th>\n",
       "      <td>601ac142be37ce2ead43755a</td>\n",
       "      <td>511111519874</td>\n",
       "      <td>TEST BRANDCODE @1612366146051</td>\n",
       "      <td>Baking</td>\n",
       "      <td>BAKING</td>\n",
       "      <td>{'$id': {'$oid': '601ac142be37ce2ead437559'}, '$ref': 'Cogs'}</td>\n",
       "      <td>test brand @1612366146051</td>\n",
       "      <td>0.0</td>\n",
       "      <td>601ac142be37ce2ead437559</td>\n",
       "      <td>Cogs</td>\n",
       "    </tr>\n",
       "    <tr>\n",
       "      <th>4</th>\n",
       "      <td>601ac142be37ce2ead43755e</td>\n",
       "      <td>511111319917</td>\n",
       "      <td>TEST BRANDCODE @1612366146827</td>\n",
       "      <td>Candy &amp; Sweets</td>\n",
       "      <td>CANDY_AND_SWEETS</td>\n",
       "      <td>{'$id': {'$oid': '5332fa12e4b03c9a25efd1e7'}, '$ref': 'Cogs'}</td>\n",
       "      <td>test brand @1612366146827</td>\n",
       "      <td>0.0</td>\n",
       "      <td>5332fa12e4b03c9a25efd1e7</td>\n",
       "      <td>Cogs</td>\n",
       "    </tr>\n",
       "  </tbody>\n",
       "</table>\n",
       "</div>"
      ],
      "text/plain": [
       "                        _id       barcode                      brandCode  \\\n",
       "0  601ac115be37ce2ead437551  511111019862  NaN                             \n",
       "1  601c5460be37ce2ead43755f  511111519928  STARBUCKS                       \n",
       "2  601ac142be37ce2ead43755d  511111819905  TEST BRANDCODE @1612366146176   \n",
       "3  601ac142be37ce2ead43755a  511111519874  TEST BRANDCODE @1612366146051   \n",
       "4  601ac142be37ce2ead43755e  511111319917  TEST BRANDCODE @1612366146827   \n",
       "\n",
       "         category      categoryCode  \\\n",
       "0  Baking          BAKING             \n",
       "1  Beverages       BEVERAGES          \n",
       "2  Baking          BAKING             \n",
       "3  Baking          BAKING             \n",
       "4  Candy & Sweets  CANDY_AND_SWEETS   \n",
       "\n",
       "                                                             cpg  \\\n",
       "0  {'$id': {'$oid': '601ac114be37ce2ead437550'}, '$ref': 'Cogs'}   \n",
       "1  {'$id': {'$oid': '5332f5fbe4b03c9a25efd0ba'}, '$ref': 'Cogs'}   \n",
       "2  {'$id': {'$oid': '601ac142be37ce2ead437559'}, '$ref': 'Cogs'}   \n",
       "3  {'$id': {'$oid': '601ac142be37ce2ead437559'}, '$ref': 'Cogs'}   \n",
       "4  {'$id': {'$oid': '5332fa12e4b03c9a25efd1e7'}, '$ref': 'Cogs'}   \n",
       "\n",
       "                        name  topBrand                    cpg_id cpg_ref  \n",
       "0  test brand @1612366101024  0.0       601ac114be37ce2ead437550  Cogs    \n",
       "1  Starbucks                  0.0       5332f5fbe4b03c9a25efd0ba  Cogs    \n",
       "2  test brand @1612366146176  0.0       601ac142be37ce2ead437559  Cogs    \n",
       "3  test brand @1612366146051  0.0       601ac142be37ce2ead437559  Cogs    \n",
       "4  test brand @1612366146827  0.0       5332fa12e4b03c9a25efd1e7  Cogs    "
      ]
     },
     "execution_count": 434,
     "metadata": {},
     "output_type": "execute_result"
    }
   ],
   "source": [
    "brands.head(1)"
   ]
  },
  {
   "cell_type": "code",
   "execution_count": 514,
   "metadata": {},
   "outputs": [],
   "source": [
    "brands=brands.drop(['cpg'], axis=1)\n"
   ]
  },
  {
   "cell_type": "code",
   "execution_count": 436,
   "metadata": {
    "collapsed": true
   },
   "outputs": [
    {
     "data": {
      "text/html": [
       "<div>\n",
       "<style scoped>\n",
       "    .dataframe tbody tr th:only-of-type {\n",
       "        vertical-align: middle;\n",
       "    }\n",
       "\n",
       "    .dataframe tbody tr th {\n",
       "        vertical-align: top;\n",
       "    }\n",
       "\n",
       "    .dataframe thead th {\n",
       "        text-align: right;\n",
       "    }\n",
       "</style>\n",
       "<table border=\"1\" class=\"dataframe\">\n",
       "  <thead>\n",
       "    <tr style=\"text-align: right;\">\n",
       "      <th></th>\n",
       "      <th>_id</th>\n",
       "      <th>barcode</th>\n",
       "      <th>brandCode</th>\n",
       "      <th>category</th>\n",
       "      <th>categoryCode</th>\n",
       "      <th>name</th>\n",
       "      <th>topBrand</th>\n",
       "      <th>cpg_id</th>\n",
       "      <th>cpg_ref</th>\n",
       "    </tr>\n",
       "  </thead>\n",
       "  <tbody>\n",
       "    <tr>\n",
       "      <th>0</th>\n",
       "      <td>601ac115be37ce2ead437551</td>\n",
       "      <td>511111019862</td>\n",
       "      <td>NaN</td>\n",
       "      <td>Baking</td>\n",
       "      <td>BAKING</td>\n",
       "      <td>test brand @1612366101024</td>\n",
       "      <td>0.0</td>\n",
       "      <td>601ac114be37ce2ead437550</td>\n",
       "      <td>Cogs</td>\n",
       "    </tr>\n",
       "    <tr>\n",
       "      <th>1</th>\n",
       "      <td>601c5460be37ce2ead43755f</td>\n",
       "      <td>511111519928</td>\n",
       "      <td>STARBUCKS</td>\n",
       "      <td>Beverages</td>\n",
       "      <td>BEVERAGES</td>\n",
       "      <td>Starbucks</td>\n",
       "      <td>0.0</td>\n",
       "      <td>5332f5fbe4b03c9a25efd0ba</td>\n",
       "      <td>Cogs</td>\n",
       "    </tr>\n",
       "    <tr>\n",
       "      <th>2</th>\n",
       "      <td>601ac142be37ce2ead43755d</td>\n",
       "      <td>511111819905</td>\n",
       "      <td>TEST BRANDCODE @1612366146176</td>\n",
       "      <td>Baking</td>\n",
       "      <td>BAKING</td>\n",
       "      <td>test brand @1612366146176</td>\n",
       "      <td>0.0</td>\n",
       "      <td>601ac142be37ce2ead437559</td>\n",
       "      <td>Cogs</td>\n",
       "    </tr>\n",
       "    <tr>\n",
       "      <th>3</th>\n",
       "      <td>601ac142be37ce2ead43755a</td>\n",
       "      <td>511111519874</td>\n",
       "      <td>TEST BRANDCODE @1612366146051</td>\n",
       "      <td>Baking</td>\n",
       "      <td>BAKING</td>\n",
       "      <td>test brand @1612366146051</td>\n",
       "      <td>0.0</td>\n",
       "      <td>601ac142be37ce2ead437559</td>\n",
       "      <td>Cogs</td>\n",
       "    </tr>\n",
       "    <tr>\n",
       "      <th>4</th>\n",
       "      <td>601ac142be37ce2ead43755e</td>\n",
       "      <td>511111319917</td>\n",
       "      <td>TEST BRANDCODE @1612366146827</td>\n",
       "      <td>Candy &amp; Sweets</td>\n",
       "      <td>CANDY_AND_SWEETS</td>\n",
       "      <td>test brand @1612366146827</td>\n",
       "      <td>0.0</td>\n",
       "      <td>5332fa12e4b03c9a25efd1e7</td>\n",
       "      <td>Cogs</td>\n",
       "    </tr>\n",
       "  </tbody>\n",
       "</table>\n",
       "</div>"
      ],
      "text/plain": [
       "                        _id       barcode                      brandCode  \\\n",
       "0  601ac115be37ce2ead437551  511111019862  NaN                             \n",
       "1  601c5460be37ce2ead43755f  511111519928  STARBUCKS                       \n",
       "2  601ac142be37ce2ead43755d  511111819905  TEST BRANDCODE @1612366146176   \n",
       "3  601ac142be37ce2ead43755a  511111519874  TEST BRANDCODE @1612366146051   \n",
       "4  601ac142be37ce2ead43755e  511111319917  TEST BRANDCODE @1612366146827   \n",
       "\n",
       "         category      categoryCode                       name  topBrand  \\\n",
       "0  Baking          BAKING            test brand @1612366101024  0.0        \n",
       "1  Beverages       BEVERAGES         Starbucks                  0.0        \n",
       "2  Baking          BAKING            test brand @1612366146176  0.0        \n",
       "3  Baking          BAKING            test brand @1612366146051  0.0        \n",
       "4  Candy & Sweets  CANDY_AND_SWEETS  test brand @1612366146827  0.0        \n",
       "\n",
       "                     cpg_id cpg_ref  \n",
       "0  601ac114be37ce2ead437550  Cogs    \n",
       "1  5332f5fbe4b03c9a25efd0ba  Cogs    \n",
       "2  601ac142be37ce2ead437559  Cogs    \n",
       "3  601ac142be37ce2ead437559  Cogs    \n",
       "4  5332fa12e4b03c9a25efd1e7  Cogs    "
      ]
     },
     "execution_count": 436,
     "metadata": {},
     "output_type": "execute_result"
    }
   ],
   "source": [
    "brands.head()"
   ]
  },
  {
   "cell_type": "code",
   "execution_count": 295,
   "metadata": {},
   "outputs": [],
   "source": [
    "brands_new.to_csv('brandstosql.csv')"
   ]
  },
  {
   "cell_type": "markdown",
   "metadata": {},
   "source": [
    "#### Reviewing final data frames for SQL processing "
   ]
  },
  {
   "cell_type": "code",
   "execution_count": 441,
   "metadata": {
    "collapsed": true
   },
   "outputs": [
    {
     "data": {
      "text/html": [
       "<div>\n",
       "<style scoped>\n",
       "    .dataframe tbody tr th:only-of-type {\n",
       "        vertical-align: middle;\n",
       "    }\n",
       "\n",
       "    .dataframe tbody tr th {\n",
       "        vertical-align: top;\n",
       "    }\n",
       "\n",
       "    .dataframe thead th {\n",
       "        text-align: right;\n",
       "    }\n",
       "</style>\n",
       "<table border=\"1\" class=\"dataframe\">\n",
       "  <thead>\n",
       "    <tr style=\"text-align: right;\">\n",
       "      <th></th>\n",
       "      <th>_id</th>\n",
       "      <th>bonusPointsEarned</th>\n",
       "      <th>bonusPointsEarnedReason</th>\n",
       "      <th>createDate</th>\n",
       "      <th>dateScanned</th>\n",
       "      <th>finishedDate</th>\n",
       "      <th>modifyDate</th>\n",
       "      <th>pointsAwardedDate</th>\n",
       "      <th>pointsEarned</th>\n",
       "      <th>purchaseDate</th>\n",
       "      <th>purchasedItemCount</th>\n",
       "      <th>rewardsReceiptStatus</th>\n",
       "      <th>totalSpent</th>\n",
       "      <th>userId</th>\n",
       "    </tr>\n",
       "  </thead>\n",
       "  <tbody>\n",
       "    <tr>\n",
       "      <th>434</th>\n",
       "      <td>600ed4820a720f0535000015</td>\n",
       "      <td>750.0</td>\n",
       "      <td>Receipt number 1 completed, bonus point schedule DEFAULT (5cefdcacf3693e0b50e83a36)</td>\n",
       "      <td>2021-01-25 14:24:02</td>\n",
       "      <td>2021-01-25 14:24:02</td>\n",
       "      <td>2021-01-25 14:24:02</td>\n",
       "      <td>2021-01-25 14:24:02</td>\n",
       "      <td>2021-01-25 14:24:02</td>\n",
       "      <td>750.0</td>\n",
       "      <td>2021-01-24 14:24:02</td>\n",
       "      <td>1.0</td>\n",
       "      <td>FINISHED</td>\n",
       "      <td>1.0</td>\n",
       "      <td>600ed4815edb7811cde6b50b</td>\n",
       "    </tr>\n",
       "  </tbody>\n",
       "</table>\n",
       "</div>"
      ],
      "text/plain": [
       "                          _id  bonusPointsEarned  \\\n",
       "434  600ed4820a720f0535000015  750.0               \n",
       "\n",
       "                                                                 bonusPointsEarnedReason  \\\n",
       "434  Receipt number 1 completed, bonus point schedule DEFAULT (5cefdcacf3693e0b50e83a36)   \n",
       "\n",
       "              createDate          dateScanned         finishedDate  \\\n",
       "434  2021-01-25 14:24:02  2021-01-25 14:24:02  2021-01-25 14:24:02   \n",
       "\n",
       "              modifyDate    pointsAwardedDate  pointsEarned  \\\n",
       "434  2021-01-25 14:24:02  2021-01-25 14:24:02  750.0          \n",
       "\n",
       "            purchaseDate  purchasedItemCount rewardsReceiptStatus  totalSpent  \\\n",
       "434  2021-01-24 14:24:02  1.0                 FINISHED             1.0          \n",
       "\n",
       "                       userId  \n",
       "434  600ed4815edb7811cde6b50b  "
      ]
     },
     "execution_count": 441,
     "metadata": {},
     "output_type": "execute_result"
    }
   ],
   "source": [
    "receipts.sample()"
   ]
  },
  {
   "cell_type": "code",
   "execution_count": 516,
   "metadata": {
    "collapsed": true
   },
   "outputs": [
    {
     "data": {
      "text/html": [
       "<div>\n",
       "<style scoped>\n",
       "    .dataframe tbody tr th:only-of-type {\n",
       "        vertical-align: middle;\n",
       "    }\n",
       "\n",
       "    .dataframe tbody tr th {\n",
       "        vertical-align: top;\n",
       "    }\n",
       "\n",
       "    .dataframe thead th {\n",
       "        text-align: right;\n",
       "    }\n",
       "</style>\n",
       "<table border=\"1\" class=\"dataframe\">\n",
       "  <thead>\n",
       "    <tr style=\"text-align: right;\">\n",
       "      <th></th>\n",
       "      <th>rewards_id</th>\n",
       "      <th>receipts_id</th>\n",
       "      <th>rewardsReceiptStatus</th>\n",
       "      <th>barcode</th>\n",
       "      <th>brandCode</th>\n",
       "      <th>competitiveProduct</th>\n",
       "      <th>competitorRewardsGroup</th>\n",
       "      <th>deleted</th>\n",
       "      <th>description</th>\n",
       "      <th>discountedItemPrice</th>\n",
       "      <th>...</th>\n",
       "      <th>priceAfterCoupon</th>\n",
       "      <th>quantityPurchased</th>\n",
       "      <th>rewardsGroup</th>\n",
       "      <th>rewardsProductPartnerId</th>\n",
       "      <th>targetPrice</th>\n",
       "      <th>userFlaggedBarcode</th>\n",
       "      <th>userFlaggedDescription</th>\n",
       "      <th>userFlaggedNewItem</th>\n",
       "      <th>userFlaggedPrice</th>\n",
       "      <th>userFlaggedQuantity</th>\n",
       "    </tr>\n",
       "  </thead>\n",
       "  <tbody>\n",
       "    <tr>\n",
       "      <th>136</th>\n",
       "      <td>137.0</td>\n",
       "      <td>5ff74ff50a720f052300061e</td>\n",
       "      <td>FINISHED</td>\n",
       "      <td>4011</td>\n",
       "      <td>NaN</td>\n",
       "      <td>NaN</td>\n",
       "      <td>NaN</td>\n",
       "      <td>NaN</td>\n",
       "      <td>ITEM NOT FOUND</td>\n",
       "      <td>NaN</td>\n",
       "      <td>...</td>\n",
       "      <td>NaN</td>\n",
       "      <td>1.0</td>\n",
       "      <td>NaN</td>\n",
       "      <td>NaN</td>\n",
       "      <td>NaN</td>\n",
       "      <td>NaN</td>\n",
       "      <td>NaN</td>\n",
       "      <td>NaN</td>\n",
       "      <td>NaN</td>\n",
       "      <td>NaN</td>\n",
       "    </tr>\n",
       "  </tbody>\n",
       "</table>\n",
       "<p>1 rows × 35 columns</p>\n",
       "</div>"
      ],
      "text/plain": [
       "     rewards_id               receipts_id rewardsReceiptStatus barcode  \\\n",
       "136  137.0       5ff74ff50a720f052300061e  FINISHED             4011     \n",
       "\n",
       "    brandCode competitiveProduct competitorRewardsGroup deleted  \\\n",
       "136  NaN       NaN                NaN                    NaN      \n",
       "\n",
       "        description discountedItemPrice  ... priceAfterCoupon  \\\n",
       "136  ITEM NOT FOUND  NaN                 ...  NaN               \n",
       "\n",
       "    quantityPurchased rewardsGroup rewardsProductPartnerId targetPrice  \\\n",
       "136  1.0               NaN          NaN                     NaN          \n",
       "\n",
       "    userFlaggedBarcode userFlaggedDescription userFlaggedNewItem  \\\n",
       "136  NaN                NaN                    NaN                 \n",
       "\n",
       "     userFlaggedPrice userFlaggedQuantity  \n",
       "136  NaN              NaN                  \n",
       "\n",
       "[1 rows x 35 columns]"
      ]
     },
     "execution_count": 516,
     "metadata": {},
     "output_type": "execute_result"
    }
   ],
   "source": [
    "rewards_receipts_item.sample()"
   ]
  },
  {
   "cell_type": "code",
   "execution_count": 439,
   "metadata": {
    "collapsed": true
   },
   "outputs": [
    {
     "data": {
      "text/html": [
       "<div>\n",
       "<style scoped>\n",
       "    .dataframe tbody tr th:only-of-type {\n",
       "        vertical-align: middle;\n",
       "    }\n",
       "\n",
       "    .dataframe tbody tr th {\n",
       "        vertical-align: top;\n",
       "    }\n",
       "\n",
       "    .dataframe thead th {\n",
       "        text-align: right;\n",
       "    }\n",
       "</style>\n",
       "<table border=\"1\" class=\"dataframe\">\n",
       "  <thead>\n",
       "    <tr style=\"text-align: right;\">\n",
       "      <th></th>\n",
       "      <th>_id</th>\n",
       "      <th>active</th>\n",
       "      <th>createdDate</th>\n",
       "      <th>lastLogin</th>\n",
       "      <th>role</th>\n",
       "      <th>signUpSource</th>\n",
       "      <th>state</th>\n",
       "    </tr>\n",
       "  </thead>\n",
       "  <tbody>\n",
       "    <tr>\n",
       "      <th>463</th>\n",
       "      <td>5fa41775898c7a11a6bcef3e</td>\n",
       "      <td>True</td>\n",
       "      <td>2020-11-05 15:17:09</td>\n",
       "      <td>2021-03-04 16:02:02</td>\n",
       "      <td>fetch-staff</td>\n",
       "      <td>Email</td>\n",
       "      <td>NaN</td>\n",
       "    </tr>\n",
       "  </tbody>\n",
       "</table>\n",
       "</div>"
      ],
      "text/plain": [
       "                          _id  active          createdDate  \\\n",
       "463  5fa41775898c7a11a6bcef3e  True    2020-11-05 15:17:09   \n",
       "\n",
       "               lastLogin         role signUpSource state  \n",
       "463  2021-03-04 16:02:02  fetch-staff  Email        NaN   "
      ]
     },
     "execution_count": 439,
     "metadata": {},
     "output_type": "execute_result"
    }
   ],
   "source": [
    "users.sample()"
   ]
  },
  {
   "cell_type": "code",
   "execution_count": 438,
   "metadata": {
    "collapsed": true
   },
   "outputs": [
    {
     "data": {
      "text/html": [
       "<div>\n",
       "<style scoped>\n",
       "    .dataframe tbody tr th:only-of-type {\n",
       "        vertical-align: middle;\n",
       "    }\n",
       "\n",
       "    .dataframe tbody tr th {\n",
       "        vertical-align: top;\n",
       "    }\n",
       "\n",
       "    .dataframe thead th {\n",
       "        text-align: right;\n",
       "    }\n",
       "</style>\n",
       "<table border=\"1\" class=\"dataframe\">\n",
       "  <thead>\n",
       "    <tr style=\"text-align: right;\">\n",
       "      <th></th>\n",
       "      <th>_id</th>\n",
       "      <th>barcode</th>\n",
       "      <th>brandCode</th>\n",
       "      <th>category</th>\n",
       "      <th>categoryCode</th>\n",
       "      <th>name</th>\n",
       "      <th>topBrand</th>\n",
       "      <th>cpg_id</th>\n",
       "      <th>cpg_ref</th>\n",
       "    </tr>\n",
       "  </thead>\n",
       "  <tbody>\n",
       "    <tr>\n",
       "      <th>909</th>\n",
       "      <td>60074261be37ce360be639f6</td>\n",
       "      <td>511111319795</td>\n",
       "      <td>nan</td>\n",
       "      <td>Baking</td>\n",
       "      <td>BAKING</td>\n",
       "      <td>test brand @1611088480964</td>\n",
       "      <td>0.0</td>\n",
       "      <td>60074260be37ce360be639f5</td>\n",
       "      <td>Cogs</td>\n",
       "    </tr>\n",
       "  </tbody>\n",
       "</table>\n",
       "</div>"
      ],
      "text/plain": [
       "                          _id       barcode brandCode category categoryCode  \\\n",
       "909  60074261be37ce360be639f6  511111319795  nan       Baking   BAKING        \n",
       "\n",
       "                          name  topBrand                    cpg_id cpg_ref  \n",
       "909  test brand @1611088480964  0.0       60074260be37ce360be639f5  Cogs    "
      ]
     },
     "execution_count": 438,
     "metadata": {},
     "output_type": "execute_result"
    }
   ],
   "source": [
    "brands.sample()"
   ]
  },
  {
   "cell_type": "markdown",
   "metadata": {},
   "source": [
    "## 2. Generate a query that answers a predetermined business question?"
   ]
  },
  {
   "cell_type": "markdown",
   "metadata": {},
   "source": [
    "#### I will be answersing predetermined business question using SQL ALCHEMY in the python notebook, as I wanted to have major answers in one place. I will also provide a seperate SQL query file as I have loaded these data frame to SQL server DB"
   ]
  },
  {
   "cell_type": "code",
   "execution_count": 380,
   "metadata": {},
   "outputs": [],
   "source": [
    "from sqlalchemy import create_engine"
   ]
  },
  {
   "cell_type": "code",
   "execution_count": 381,
   "metadata": {},
   "outputs": [],
   "source": [
    "engine = create_engine('sqlite://', echo=False)"
   ]
  },
  {
   "cell_type": "markdown",
   "metadata": {},
   "source": [
    "#### Firstly Users should be distinct , so removing duplicate users, and before quering the data, loading tables to the SQL Engine"
   ]
  },
  {
   "cell_type": "code",
   "execution_count": 382,
   "metadata": {},
   "outputs": [],
   "source": [
    "users.drop_duplicates(subset=['_id']).to_sql('users',con=engine)"
   ]
  },
  {
   "cell_type": "code",
   "execution_count": 383,
   "metadata": {},
   "outputs": [],
   "source": [
    "# replacing periods to underscore\n",
    "receipts.columns = receipts.columns.str.replace(\".\", \"_\")"
   ]
  },
  {
   "cell_type": "code",
   "execution_count": 384,
   "metadata": {},
   "outputs": [],
   "source": [
    "receipts.to_sql('receipts',con=engine)"
   ]
  },
  {
   "cell_type": "code",
   "execution_count": 385,
   "metadata": {},
   "outputs": [],
   "source": [
    "brands.drop_duplicates(subset=['brandCode']).to_sql('brands',con=engine)"
   ]
  },
  {
   "cell_type": "code",
   "execution_count": 386,
   "metadata": {},
   "outputs": [],
   "source": [
    "rewards_receipts_item.to_sql('rewards_receipts_item',con=engine)"
   ]
  },
  {
   "cell_type": "markdown",
   "metadata": {},
   "source": [
    "### 2A. What are the top 5 brands by receipts scanned for most recent month?"
   ]
  },
  {
   "cell_type": "code",
   "execution_count": 474,
   "metadata": {},
   "outputs": [
    {
     "data": {
      "text/plain": [
       "[('2021-01', 'Pepsi', 4),\n",
       " ('2021-01', 'KNORR', 3),\n",
       " ('2021-01', 'Huggies', 2),\n",
       " ('2021-01', 'Doritos', 1),\n",
       " ('2021-01', 'KLONDIKE', 1)]"
      ]
     },
     "execution_count": 474,
     "metadata": {},
     "output_type": "execute_result"
    }
   ],
   "source": [
    "# To get top 5 brands, I will be using CTE. \n",
    "# I have created 3 CTE as my data Model needs to get 'brands' table data via 'rewards_receipts_item' table and scanned date from receipts table\n",
    "\n",
    "engine.execute(\"with brands_cte as (\\\n",
    "            select distinct name, brandCode from brands\\\n",
    "              ),\\\n",
    "                items as (\\\n",
    "                select receipts_id, brandcode from rewards_receipts_item\\\n",
    "                ),\\\n",
    "                receipts_cte as (\\\n",
    "                select _id as receiptid, strftime('%Y-%m', dateScanned) as date from receipts\\\n",
    "                ) \\\n",
    "                select r.date, b.name, count(r.receiptid) as cnt_receiptid from receipts_cte as r\\\n",
    "                inner join items as i on i.receipts_id=r.receiptid\\\n",
    "                inner join brands as b on i.brandCode=b.brandcode\\\n",
    "                group by 1,2\\\n",
    "                having r.date = '2021-01'\\\n",
    "                order by 3 desc limit 5\\\n",
    "               \").fetchall() \n",
    "#In the above query I have used explicit dates in having clause because, most recent month is march 2021 and it doesn't have any brand data, so the most recent records available in the data are for january 2021 \n",
    "# the following having clause will automate the most recent month data, having r.date in (select distinct max(date) from receipts_cte)"
   ]
  },
  {
   "cell_type": "markdown",
   "metadata": {},
   "source": [
    "###  2B. When considering average spend from receipts with 'rewardsReceiptStatus’ of ‘Accepted’ or ‘Rejected’, which is greater?"
   ]
  },
  {
   "cell_type": "code",
   "execution_count": 481,
   "metadata": {},
   "outputs": [
    {
     "data": {
      "text/plain": [
       "[('ACCEPTED',)]"
      ]
     },
     "execution_count": 481,
     "metadata": {},
     "output_type": "execute_result"
    }
   ],
   "source": [
    "# To get average spending, we will need 'totalspent' and 'rewardsReceiptStatus' to know which status is greater, \n",
    "# Used CASE WHEN conditioning to print 'ACCEPTED' instead of 'Finished'\n",
    "engine.execute(\"select case when rewardsReceiptStatus='FINISHED' then 'ACCEPTED' else 'REJECTED' end\\\n",
    "               from receipts\\\n",
    "               where rewardsReceiptStatus in ('FINISHED','REJECTED')\\\n",
    "               group by rewardsReceiptStatus\\\n",
    "               order by avg(totalspent) desc\\\n",
    "               limit 1\\\n",
    "               \").fetchall()"
   ]
  },
  {
   "cell_type": "markdown",
   "metadata": {},
   "source": [
    "### 2C. When considering total number of items purchased from receipts with 'rewardsReceiptStatus’ of ‘Accepted’ or ‘Rejected’, which is greater?"
   ]
  },
  {
   "cell_type": "code",
   "execution_count": 489,
   "metadata": {},
   "outputs": [
    {
     "data": {
      "text/plain": [
       "[('ACCEPTED',)]"
      ]
     },
     "execution_count": 489,
     "metadata": {},
     "output_type": "execute_result"
    }
   ],
   "source": [
    "# using the same above query logic here for purchased item\n",
    "engine.execute(\"select\\ \n",
    "                   case\\ \n",
    "                       when rewardsReceiptStatus='FINISHED' then 'ACCEPTED'\\ \n",
    "                       else 'REJECTED'\\ \n",
    "                    end\\\n",
    "               from receipts\\\n",
    "               where rewardsReceiptStatus in ('FINISHED','REJECTED')\\\n",
    "               group by rewardsReceiptStatus\\\n",
    "               order by sum(purchasedItemCount) desc\\\n",
    "               limit 1\\\n",
    "               \").fetchall()"
   ]
  },
  {
   "cell_type": "markdown",
   "metadata": {},
   "source": [
    "### 2D. Which brand has the most spend among users who were created within the past 6 months?"
   ]
  },
  {
   "cell_type": "code",
   "execution_count": 500,
   "metadata": {
    "scrolled": true
   },
   "outputs": [
    {
     "data": {
      "text/plain": [
       "[('KNORR', 622.94)]"
      ]
     },
     "execution_count": 500,
     "metadata": {},
     "output_type": "execute_result"
    }
   ],
   "source": [
    "# Again I will be creating CTE for getting most amount spend by user created in past 6 months\n",
    "# Created User CTE and filted on datecreated of users, and then joing with Item table\n",
    "engine.execute(\"with users_cte as (\\\n",
    "              select distinct _id as userid from users\\\n",
    "              where createddate >= (select date(max(createddate), '-6 month') from users)\\\n",
    "              ),\\\n",
    "               receipts_cte as (\\\n",
    "               select userid, totalspent, _id as r_id from receipts\\\n",
    "               ),\\\n",
    "               items_cte as (\\\n",
    "               select brandcode, receipts_id from rewards_receipts_item\\\n",
    "               )\\\n",
    "               select i.brandcode, sum(r.totalspent)\\\n",
    "               from items_cte as i\\\n",
    "               join receipts_cte r on i.receipts_id=r.r_id\\\n",
    "               where r.userid in (select userid from users_cte)\\\n",
    "               and i.brandcode is not null\\\n",
    "               group by 1 order by 2 desc limit 1\\\n",
    "               \").fetchall()"
   ]
  },
  {
   "cell_type": "markdown",
   "metadata": {},
   "source": [
    "# 3. Generate a query to capture data quality issues against the new structured relational data model\n",
    "\n",
    "### Data Quality Issue"
   ]
  },
  {
   "cell_type": "markdown",
   "metadata": {},
   "source": [
    "#### Check Duplicate Users: There should be distinct users, as one user can have many receipts (one to many cardinality). But the other way round is not possible (many receipts can't have many user)"
   ]
  },
  {
   "cell_type": "code",
   "execution_count": 490,
   "metadata": {},
   "outputs": [
    {
     "data": {
      "text/html": [
       "<div>\n",
       "<style scoped>\n",
       "    .dataframe tbody tr th:only-of-type {\n",
       "        vertical-align: middle;\n",
       "    }\n",
       "\n",
       "    .dataframe tbody tr th {\n",
       "        vertical-align: top;\n",
       "    }\n",
       "\n",
       "    .dataframe thead th {\n",
       "        text-align: right;\n",
       "    }\n",
       "</style>\n",
       "<table border=\"1\" class=\"dataframe\">\n",
       "  <thead>\n",
       "    <tr style=\"text-align: right;\">\n",
       "      <th></th>\n",
       "      <th>_id</th>\n",
       "      <th>active</th>\n",
       "      <th>createdDate</th>\n",
       "      <th>lastLogin</th>\n",
       "      <th>role</th>\n",
       "      <th>signUpSource</th>\n",
       "      <th>state</th>\n",
       "    </tr>\n",
       "  </thead>\n",
       "  <tbody>\n",
       "    <tr>\n",
       "      <th>435</th>\n",
       "      <td>5fc961c3b8cfca11a077dd33</td>\n",
       "      <td>True</td>\n",
       "      <td>2020-12-03 22:08:03</td>\n",
       "      <td>2021-02-26 22:39:16</td>\n",
       "      <td>fetch-staff</td>\n",
       "      <td>Email</td>\n",
       "      <td>NH</td>\n",
       "    </tr>\n",
       "  </tbody>\n",
       "</table>\n",
       "</div>"
      ],
      "text/plain": [
       "                          _id  active          createdDate  \\\n",
       "435  5fc961c3b8cfca11a077dd33  True    2020-12-03 22:08:03   \n",
       "\n",
       "               lastLogin         role signUpSource state  \n",
       "435  2021-02-26 22:39:16  fetch-staff  Email        NH    "
      ]
     },
     "execution_count": 490,
     "metadata": {},
     "output_type": "execute_result"
    }
   ],
   "source": [
    "users.sample()"
   ]
  },
  {
   "cell_type": "markdown",
   "metadata": {},
   "source": [
    "#### In the code below I have found, how many dulicate users present in the data and also checked for ID column"
   ]
  },
  {
   "cell_type": "code",
   "execution_count": 302,
   "metadata": {},
   "outputs": [],
   "source": [
    "users_after_all_columns_duplicate_removal = users.drop_duplicates()"
   ]
  },
  {
   "cell_type": "code",
   "execution_count": 305,
   "metadata": {},
   "outputs": [],
   "source": [
    "unique_users, total_users = (len(users_after_all_columns_duplicate_removal),len(users))"
   ]
  },
  {
   "cell_type": "code",
   "execution_count": 535,
   "metadata": {},
   "outputs": [
    {
     "data": {
      "text/plain": [
       "1167"
      ]
     },
     "execution_count": 535,
     "metadata": {},
     "output_type": "execute_result"
    }
   ],
   "source": [
    "total_users\n"
   ]
  },
  {
   "cell_type": "code",
   "execution_count": 306,
   "metadata": {},
   "outputs": [
    {
     "name": "stdout",
     "output_type": "stream",
     "text": [
      "Total Number of Duplicate(All the columns) Users: 283\n"
     ]
    }
   ],
   "source": [
    "print('Total Number of Duplicate(All the columns) Users:',total_users-unique_users)"
   ]
  },
  {
   "cell_type": "code",
   "execution_count": 307,
   "metadata": {},
   "outputs": [],
   "source": [
    "users_after_all_ids_duplicate_removal = users['_id'].drop_duplicates()"
   ]
  },
  {
   "cell_type": "code",
   "execution_count": 308,
   "metadata": {},
   "outputs": [],
   "source": [
    "unique_users, total_users = (len(users_after_all_ids_duplicate_removal),len(users))"
   ]
  },
  {
   "cell_type": "code",
   "execution_count": 309,
   "metadata": {},
   "outputs": [
    {
     "name": "stdout",
     "output_type": "stream",
     "text": [
      "Total Number of Duplicate(IDS) Users: 283\n"
     ]
    }
   ],
   "source": [
    "print('Total Number of Duplicate(IDS) Users:',total_users-unique_users)"
   ]
  },
  {
   "cell_type": "markdown",
   "metadata": {},
   "source": [
    "#### Check If we have missing prices in ReceiptsItemList: Below I have checked for prices missing in Item column and comparing them to FinalPrice."
   ]
  },
  {
   "cell_type": "code",
   "execution_count": 517,
   "metadata": {
    "collapsed": true
   },
   "outputs": [
    {
     "data": {
      "text/plain": [
       "Index(['rewards_id', 'receipts_id', 'rewardsReceiptStatus', 'barcode',\n",
       "       'brandCode', 'competitiveProduct', 'competitorRewardsGroup', 'deleted',\n",
       "       'description', 'discountedItemPrice', 'finalPrice', 'itemNumber',\n",
       "       'itemPrice', 'metabriteCampaignId', 'needsFetchReview',\n",
       "       'needsFetchReviewReason', 'originalMetaBriteBarcode',\n",
       "       'originalMetaBriteDescription', 'originalMetaBriteQuantityPurchased',\n",
       "       'originalReceiptItemText', 'partnerItemId', 'pointsEarned',\n",
       "       'pointsNotAwardedReason', 'pointsPayerId', 'preventTargetGapPoints',\n",
       "       'priceAfterCoupon', 'quantityPurchased', 'rewardsGroup',\n",
       "       'rewardsProductPartnerId', 'targetPrice', 'userFlaggedBarcode',\n",
       "       'userFlaggedDescription', 'userFlaggedNewItem', 'userFlaggedPrice',\n",
       "       'userFlaggedQuantity'],\n",
       "      dtype='object')"
      ]
     },
     "execution_count": 517,
     "metadata": {},
     "output_type": "execute_result"
    }
   ],
   "source": [
    "rewards_receipts_item.columns"
   ]
  },
  {
   "cell_type": "code",
   "execution_count": 518,
   "metadata": {
    "collapsed": true
   },
   "outputs": [
    {
     "data": {
      "text/html": [
       "<div>\n",
       "<style scoped>\n",
       "    .dataframe tbody tr th:only-of-type {\n",
       "        vertical-align: middle;\n",
       "    }\n",
       "\n",
       "    .dataframe tbody tr th {\n",
       "        vertical-align: top;\n",
       "    }\n",
       "\n",
       "    .dataframe thead th {\n",
       "        text-align: right;\n",
       "    }\n",
       "</style>\n",
       "<table border=\"1\" class=\"dataframe\">\n",
       "  <thead>\n",
       "    <tr style=\"text-align: right;\">\n",
       "      <th></th>\n",
       "      <th>itemPrice</th>\n",
       "      <th>targetPrice</th>\n",
       "      <th>finalPrice</th>\n",
       "    </tr>\n",
       "  </thead>\n",
       "  <tbody>\n",
       "    <tr>\n",
       "      <th>0</th>\n",
       "      <td>26.00</td>\n",
       "      <td>NaN</td>\n",
       "      <td>26.00</td>\n",
       "    </tr>\n",
       "    <tr>\n",
       "      <th>1</th>\n",
       "      <td>1</td>\n",
       "      <td>NaN</td>\n",
       "      <td>1</td>\n",
       "    </tr>\n",
       "    <tr>\n",
       "      <th>2</th>\n",
       "      <td>NaN</td>\n",
       "      <td>NaN</td>\n",
       "      <td>NaN</td>\n",
       "    </tr>\n",
       "    <tr>\n",
       "      <th>3</th>\n",
       "      <td>28.00</td>\n",
       "      <td>NaN</td>\n",
       "      <td>28.00</td>\n",
       "    </tr>\n",
       "    <tr>\n",
       "      <th>4</th>\n",
       "      <td>1</td>\n",
       "      <td>NaN</td>\n",
       "      <td>1</td>\n",
       "    </tr>\n",
       "  </tbody>\n",
       "</table>\n",
       "</div>"
      ],
      "text/plain": [
       "  itemPrice targetPrice finalPrice\n",
       "0  26.00     NaN         26.00    \n",
       "1  1         NaN         1        \n",
       "2  NaN       NaN         NaN      \n",
       "3  28.00     NaN         28.00    \n",
       "4  1         NaN         1        "
      ]
     },
     "execution_count": 518,
     "metadata": {},
     "output_type": "execute_result"
    }
   ],
   "source": [
    "rewards_receipts_item[['itemPrice','targetPrice','finalPrice']].head()"
   ]
  },
  {
   "cell_type": "code",
   "execution_count": 520,
   "metadata": {
    "collapsed": true
   },
   "outputs": [
    {
     "data": {
      "text/plain": [
       "0.0"
      ]
     },
     "execution_count": 520,
     "metadata": {},
     "output_type": "execute_result"
    }
   ],
   "source": [
    "# Here we find out that itemPrice and FinalPrice are identical and there is no rewards for any Item \n",
    "(rewards_receipts_item['itemPrice'].astype(float) - rewards_receipts_item['finalPrice'].astype(float)).dropna().sum()"
   ]
  },
  {
   "cell_type": "markdown",
   "metadata": {},
   "source": [
    "This shows that the columns 'itemPrice' and 'finalPrice' have exactly same data. Lets check if we have any price set to Nan"
   ]
  },
  {
   "cell_type": "code",
   "execution_count": 521,
   "metadata": {},
   "outputs": [
    {
     "data": {
      "text/plain": [
       "14"
      ]
     },
     "execution_count": 521,
     "metadata": {},
     "output_type": "execute_result"
    }
   ],
   "source": [
    "rewards_receipts_item['finalPrice'].isna().sum()"
   ]
  },
  {
   "cell_type": "code",
   "execution_count": 522,
   "metadata": {},
   "outputs": [
    {
     "name": "stdout",
     "output_type": "stream",
     "text": [
      "Out of  679 Samples, 14 samples have NaN as Final Price\n"
     ]
    }
   ],
   "source": [
    "print('Out of ',len(rewards_receipts_item),'Samples,',rewards_receipts_item['finalPrice'].isna().sum(),'samples have NaN as Final Price')"
   ]
  },
  {
   "cell_type": "markdown",
   "metadata": {},
   "source": [
    "### Checked if we have missing total spent amount from receipts"
   ]
  },
  {
   "cell_type": "code",
   "execution_count": 524,
   "metadata": {},
   "outputs": [
    {
     "data": {
      "text/plain": [
       "Index(['_id', 'bonusPointsEarned', 'bonusPointsEarnedReason', 'createDate',\n",
       "       'dateScanned', 'finishedDate', 'modifyDate', 'pointsAwardedDate',\n",
       "       'pointsEarned', 'purchaseDate', 'purchasedItemCount',\n",
       "       'rewardsReceiptStatus', 'totalSpent', 'userId'],\n",
       "      dtype='object')"
      ]
     },
     "execution_count": 524,
     "metadata": {},
     "output_type": "execute_result"
    }
   ],
   "source": [
    "receipts.columns"
   ]
  },
  {
   "cell_type": "code",
   "execution_count": 525,
   "metadata": {},
   "outputs": [
    {
     "name": "stdout",
     "output_type": "stream",
     "text": [
      "Out of  1119 Samples, 435 samples have NaN as totalSpent\n"
     ]
    }
   ],
   "source": [
    "print('Out of ',len(receipts),'Samples,',receipts['totalSpent'].isna().sum(),'samples have NaN as totalSpent')"
   ]
  },
  {
   "cell_type": "markdown",
   "metadata": {},
   "source": [
    "### Checked if we have unique barcodes"
   ]
  },
  {
   "cell_type": "code",
   "execution_count": 526,
   "metadata": {},
   "outputs": [
    {
     "data": {
      "text/plain": [
       "Index(['_id', 'barcode', 'brandCode', 'category', 'categoryCode', 'name',\n",
       "       'topBrand', 'cpg_id', 'cpg_ref'],\n",
       "      dtype='object')"
      ]
     },
     "execution_count": 526,
     "metadata": {},
     "output_type": "execute_result"
    }
   ],
   "source": [
    "brands.columns"
   ]
  },
  {
   "cell_type": "markdown",
   "metadata": {},
   "source": [
    "Bar Code of all the products must be unique"
   ]
  },
  {
   "cell_type": "code",
   "execution_count": 340,
   "metadata": {},
   "outputs": [],
   "source": [
    "brands_temp = brands[brands['barcode'].notna()]"
   ]
  },
  {
   "cell_type": "code",
   "execution_count": 342,
   "metadata": {},
   "outputs": [],
   "source": [
    "brands_removing_duplicate_barcodes =brands_temp['barcode'].drop_duplicates()"
   ]
  },
  {
   "cell_type": "code",
   "execution_count": 343,
   "metadata": {},
   "outputs": [],
   "source": [
    "unique_users, total_users = (len(brands_removing_duplicate_barcodes),len(brands_temp))"
   ]
  },
  {
   "cell_type": "code",
   "execution_count": 344,
   "metadata": {},
   "outputs": [
    {
     "name": "stdout",
     "output_type": "stream",
     "text": [
      "Total Number of Duplicate BarCodes: 7\n"
     ]
    }
   ],
   "source": [
    "print('Total Number of Duplicate BarCodes:',total_users-unique_users)"
   ]
  },
  {
   "cell_type": "markdown",
   "metadata": {},
   "source": [
    "We have 7 Duplicate Barcodes, which might cause an issue\n",
    "\n",
    "\n",
    "### Mactching Barcode and brandcode from Brands to that of  rewards_receipts_item"
   ]
  },
  {
   "cell_type": "code",
   "execution_count": 536,
   "metadata": {
    "scrolled": true
   },
   "outputs": [
    {
     "data": {
      "text/plain": [
       "Index(['rewards_id', 'receipts_id', 'rewardsReceiptStatus', 'barcode',\n",
       "       'brandCode', 'competitiveProduct', 'competitorRewardsGroup', 'deleted',\n",
       "       'description', 'discountedItemPrice', 'finalPrice', 'itemNumber',\n",
       "       'itemPrice', 'metabriteCampaignId', 'needsFetchReview',\n",
       "       'needsFetchReviewReason', 'originalMetaBriteBarcode',\n",
       "       'originalMetaBriteDescription', 'originalMetaBriteQuantityPurchased',\n",
       "       'originalReceiptItemText', 'partnerItemId', 'pointsEarned',\n",
       "       'pointsNotAwardedReason', 'pointsPayerId', 'preventTargetGapPoints',\n",
       "       'priceAfterCoupon', 'quantityPurchased', 'rewardsGroup',\n",
       "       'rewardsProductPartnerId', 'targetPrice', 'userFlaggedBarcode',\n",
       "       'userFlaggedDescription', 'userFlaggedNewItem', 'userFlaggedPrice',\n",
       "       'userFlaggedQuantity'],\n",
       "      dtype='object')"
      ]
     },
     "execution_count": 536,
     "metadata": {},
     "output_type": "execute_result"
    }
   ],
   "source": [
    "rewards_receipts_item.columns"
   ]
  },
  {
   "cell_type": "code",
   "execution_count": 537,
   "metadata": {},
   "outputs": [
    {
     "data": {
      "text/plain": [
       "Index(['_id', 'barcode', 'brandCode', 'category', 'categoryCode', 'name',\n",
       "       'topBrand', 'cpg_id', 'cpg_ref'],\n",
       "      dtype='object')"
      ]
     },
     "execution_count": 537,
     "metadata": {},
     "output_type": "execute_result"
    }
   ],
   "source": [
    "brands.columns"
   ]
  },
  {
   "cell_type": "code",
   "execution_count": 538,
   "metadata": {},
   "outputs": [
    {
     "data": {
      "text/plain": [
       "Index(['_id', 'bonusPointsEarned', 'bonusPointsEarnedReason', 'createDate',\n",
       "       'dateScanned', 'finishedDate', 'modifyDate', 'pointsAwardedDate',\n",
       "       'pointsEarned', 'purchaseDate', 'purchasedItemCount',\n",
       "       'rewardsReceiptStatus', 'totalSpent', 'userId'],\n",
       "      dtype='object')"
      ]
     },
     "execution_count": 538,
     "metadata": {},
     "output_type": "execute_result"
    }
   ],
   "source": [
    "receipts.columns"
   ]
  },
  {
   "cell_type": "code",
   "execution_count": 530,
   "metadata": {},
   "outputs": [],
   "source": [
    "# replace brandcode with barcode to get comparison between brandcode and barcode\n",
    "uniques_barcode_or_brandcode_in_receipts_items = set(rewards_receipts_item['brandCode'].dropna())\n",
    "uniques_barcodes_or_brandcode_in_brands = set(brands['brandCode'].dropna())"
   ]
  },
  {
   "cell_type": "code",
   "execution_count": 531,
   "metadata": {},
   "outputs": [],
   "source": [
    "intersection = uniques_barcode_or_brandcode_in_receipts_items.intersection(uniques_barcodes_or_brandcode_in_brands)\n",
    "a = len(uniques_barcode_or_brandcode_in_receipts_items - intersection)"
   ]
  },
  {
   "cell_type": "code",
   "execution_count": 532,
   "metadata": {},
   "outputs": [],
   "source": [
    "b = len(uniques_barcode_or_brandcode_in_receipts_items)"
   ]
  },
  {
   "cell_type": "code",
   "execution_count": 533,
   "metadata": {},
   "outputs": [
    {
     "data": {
      "text/plain": [
       "1156"
      ]
     },
     "execution_count": 533,
     "metadata": {},
     "output_type": "execute_result"
    }
   ],
   "source": [
    "len(uniques_barcodes_or_brandcode_in_brands)"
   ]
  },
  {
   "cell_type": "code",
   "execution_count": 534,
   "metadata": {},
   "outputs": [
    {
     "name": "stdout",
     "output_type": "stream",
     "text": [
      "Out of 18 samples, 16 smaples do naot have a match in the brands table\n"
     ]
    }
   ],
   "source": [
    "print('Out of',str(b),'samples,',str(a),'smaples do naot have a match in the brands table')"
   ]
  },
  {
   "cell_type": "markdown",
   "metadata": {},
   "source": [
    "Also, the barcodes present in the table 'rewards_receipts_item' do not have a single match with barcodes in table 'brands'. Meaning they are identical of each brands."
   ]
  },
  {
   "cell_type": "code",
   "execution_count": null,
   "metadata": {},
   "outputs": [],
   "source": []
  }
 ],
 "metadata": {
  "kernelspec": {
   "display_name": "Python 3",
   "language": "python",
   "name": "python3"
  },
  "language_info": {
   "codemirror_mode": {
    "name": "ipython",
    "version": 3
   },
   "file_extension": ".py",
   "mimetype": "text/x-python",
   "name": "python",
   "nbconvert_exporter": "python",
   "pygments_lexer": "ipython3",
   "version": "3.7.3"
  }
 },
 "nbformat": 4,
 "nbformat_minor": 2
}
